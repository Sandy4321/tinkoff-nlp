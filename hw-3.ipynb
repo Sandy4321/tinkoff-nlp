{
 "cells": [
  {
   "cell_type": "markdown",
   "metadata": {
    "colab_type": "text",
    "id": "p6ISv94U4GtK"
   },
   "source": [
    "# Сентимент для твиттера\n",
    "\n",
    "[Данные](https://docs.google.com/file/d/0B04GJPshIjmPRnZManQwWEdTZjg/edit) [sentiment140](http://help.sentiment140.com/for-students) это англоязычный твиттер.\n",
    "\n",
    "Он уже поделен на train/test. Train часть была размечена автоматически -- по наличию определенных эмоджи в тексте.\n",
    "\n",
    "Тест часть была размечена людьми. Таким образом задача состоит в том, чтобы обучиться на шумных данных и сделать хорошие предсказания на тестовой выборке. И, конечно же, нужно превзойти бейзлайн решение."
   ]
  },
  {
   "cell_type": "markdown",
   "metadata": {
    "colab_type": "text",
    "id": "d5BmH4Cgvkvy"
   },
   "source": [
    "Запустите следующую ячейку, если работаете в google colab. Это поможет быстро загрузить данные в текущий runtime."
   ]
  },
  {
   "cell_type": "code",
   "execution_count": 12,
   "metadata": {
    "colab": {
     "base_uri": "https://localhost:8080/",
     "height": 326
    },
    "colab_type": "code",
    "id": "0pMOAJ12Jv3x",
    "outputId": "21a68683-9f1e-4db0-f37d-7f173951807e"
   },
   "outputs": [
    {
     "name": "stdout",
     "output_type": "stream",
     "text": [
      "--2018-10-13 15:53:48--  https://docs.google.com/uc?export=download&confirm=&id=0B04GJPshIjmPRnZManQwWEdTZjg\n",
      "Resolving docs.google.com (docs.google.com)... 74.125.129.100, 74.125.129.138, 74.125.129.113, ...\n",
      "Connecting to docs.google.com (docs.google.com)|74.125.129.100|:443... connected.\n",
      "HTTP request sent, awaiting response... 302 Moved Temporarily\n",
      "Location: https://doc-0o-70-docs.googleusercontent.com/docs/securesc/ha0ro937gcuc7l7deffksulhg5h7mbp1/q1hbpo3hm6hjcb30vp3q2nvjerc82p3o/1539439200000/12624221410083370842/*/0B04GJPshIjmPRnZManQwWEdTZjg?e=download [following]\n",
      "Warning: wildcards not supported in HTTP.\n",
      "--2018-10-13 15:53:49--  https://doc-0o-70-docs.googleusercontent.com/docs/securesc/ha0ro937gcuc7l7deffksulhg5h7mbp1/q1hbpo3hm6hjcb30vp3q2nvjerc82p3o/1539439200000/12624221410083370842/*/0B04GJPshIjmPRnZManQwWEdTZjg?e=download\n",
      "Resolving doc-0o-70-docs.googleusercontent.com (doc-0o-70-docs.googleusercontent.com)... 74.125.129.132, 2607:f8b0:4001:c15::84\n",
      "Connecting to doc-0o-70-docs.googleusercontent.com (doc-0o-70-docs.googleusercontent.com)|74.125.129.132|:443... connected.\n",
      "HTTP request sent, awaiting response... 200 OK\n",
      "Length: unspecified [application/zip]\n",
      "Saving to: ‘dataset.zip’\n",
      "\n",
      "dataset.zip             [   <=>              ]  77.59M   152MB/s    in 0.5s    \n",
      "\n",
      "2018-10-13 15:53:50 (152 MB/s) - ‘dataset.zip’ saved [81363704]\n",
      "\n"
     ]
    }
   ],
   "source": [
    "!wget --load-cookies /tmp/cookies.txt \"https://docs.google.com/uc?export=download&confirm=$(wget --quiet --save-cookies /tmp/cookies.txt --keep-session-cookies --no-check-certificate 'https://docs.google.com/uc?export=download&id=0B04GJPshIjmPRnZManQwWEdTZjg' -O- | sed -rn 's/.*confirm=([0-9A-Za-z_]+).*/\\1\\n/p')&id=0B04GJPshIjmPRnZManQwWEdTZjg\" -O dataset.zip && rm -rf /tmp/cookies.txt"
   ]
  },
  {
   "cell_type": "markdown",
   "metadata": {
    "colab_type": "text",
    "id": "Nb_XPmNivso-"
   },
   "source": [
    "Для google colab: распаковка данных внутри runtime."
   ]
  },
  {
   "cell_type": "code",
   "execution_count": 13,
   "metadata": {
    "colab": {
     "base_uri": "https://localhost:8080/",
     "height": 68
    },
    "colab_type": "code",
    "id": "7kc-pJF6JxrP",
    "outputId": "621b4e5d-f859-4102-e3a9-9a4e5e26cc46"
   },
   "outputs": [
    {
     "name": "stdout",
     "output_type": "stream",
     "text": [
      "Archive:  dataset.zip\n",
      "  inflating: testdata.manual.2009.06.14.csv  \n",
      "  inflating: training.1600000.processed.noemoticon.csv  \n"
     ]
    }
   ],
   "source": [
    "!unzip dataset.zip"
   ]
  },
  {
   "cell_type": "markdown",
   "metadata": {
    "colab_type": "text",
    "id": "EAiQbXe4v4I9"
   },
   "source": [
    "Загрузка предобученных эмбеддингов."
   ]
  },
  {
   "cell_type": "code",
   "execution_count": 14,
   "metadata": {
    "colab": {
     "base_uri": "https://localhost:8080/",
     "height": 272
    },
    "colab_type": "code",
    "id": "o7skeI8PO2F7",
    "outputId": "aeae29b7-a21a-4a14-e6b3-8f3c4e8dd895"
   },
   "outputs": [
    {
     "name": "stdout",
     "output_type": "stream",
     "text": [
      "--2018-10-13 15:54:03--  http://nlp.stanford.edu/data/wordvecs/glove.twitter.27B.zip\n",
      "Resolving nlp.stanford.edu (nlp.stanford.edu)... 171.64.67.140\n",
      "Connecting to nlp.stanford.edu (nlp.stanford.edu)|171.64.67.140|:80... connected.\n",
      "HTTP request sent, awaiting response... 302 Found\n",
      "Location: https://nlp.stanford.edu/data/wordvecs/glove.twitter.27B.zip [following]\n",
      "--2018-10-13 15:54:03--  https://nlp.stanford.edu/data/wordvecs/glove.twitter.27B.zip\n",
      "Connecting to nlp.stanford.edu (nlp.stanford.edu)|171.64.67.140|:443... connected.\n",
      "HTTP request sent, awaiting response... 200 OK\n",
      "Length: 1520408741 (1.4G) [application/zip]\n",
      "Saving to: ‘glove.twitter.27B.zip.1’\n",
      "\n",
      "glove.twitter.27B.z 100%[===================>]   1.42G  12.0MB/s    in 4m 8s   \n",
      "\n",
      "2018-10-13 15:58:11 (5.85 MB/s) - ‘glove.twitter.27B.zip.1’ saved [1520408741/1520408741]\n",
      "\n"
     ]
    }
   ],
   "source": [
    "!wget http://nlp.stanford.edu/data/wordvecs/glove.twitter.27B.zip"
   ]
  },
  {
   "cell_type": "code",
   "execution_count": 15,
   "metadata": {
    "colab": {
     "base_uri": "https://localhost:8080/",
     "height": 207
    },
    "colab_type": "code",
    "id": "Ktdn8hX8O5pV",
    "outputId": "823d07fb-54fc-4191-a6a0-4b85fca50afe"
   },
   "outputs": [
    {
     "name": "stdout",
     "output_type": "stream",
     "text": [
      "Archive:  glove.twitter.27B.zip\n",
      "replace glove.twitter.27B.100d.txt? [y]es, [n]o, [A]ll, [N]one, [r]ename: y\n",
      "  inflating: glove.twitter.27B.100d.txt  y\n",
      "\n",
      "replace glove.twitter.27B.200d.txt? [y]es, [n]o, [A]ll, [N]one, [r]ename:   inflating: glove.twitter.27B.200d.txt  y\n",
      "\n",
      "replace glove.twitter.27B.25d.txt? [y]es, [n]o, [A]ll, [N]one, [r]ename:   inflating: glove.twitter.27B.25d.txt  \n",
      "replace glove.twitter.27B.50d.txt? [y]es, [n]o, [A]ll, [N]one, [r]ename: y\n",
      "  inflating: glove.twitter.27B.50d.txt  y\n",
      "\n"
     ]
    }
   ],
   "source": [
    "!unzip glove.twitter.27B.zip"
   ]
  },
  {
   "cell_type": "code",
   "execution_count": 16,
   "metadata": {
    "colab": {
     "base_uri": "https://localhost:8080/",
     "height": 68
    },
    "colab_type": "code",
    "id": "zUbgIfRG4GtM",
    "outputId": "05ba0e56-fc36-4b16-8147-1c5327996764"
   },
   "outputs": [
    {
     "name": "stdout",
     "output_type": "stream",
     "text": [
      "[nltk_data] Downloading package stopwords to /root/nltk_data...\n",
      "[nltk_data]   Package stopwords is already up-to-date!\n",
      "Populating the interactive namespace from numpy and matplotlib\n"
     ]
    }
   ],
   "source": [
    "import pandas as pd\n",
    "import numpy as np\n",
    "import re\n",
    "from sklearn.model_selection import train_test_split\n",
    "import nltk\n",
    "nltk.download('stopwords')\n",
    "from nltk.corpus import stopwords\n",
    "\n",
    "np.random.seed(101)\n",
    "%pylab inline"
   ]
  },
  {
   "cell_type": "code",
   "execution_count": 17,
   "metadata": {
    "colab": {
     "base_uri": "https://localhost:8080/",
     "height": 289
    },
    "colab_type": "code",
    "id": "mIRBlFny4GtS",
    "outputId": "51d67577-2506-45d5-b974-21bcc4762d18"
   },
   "outputs": [
    {
     "data": {
      "text/html": [
       "<div>\n",
       "<style scoped>\n",
       "    .dataframe tbody tr th:only-of-type {\n",
       "        vertical-align: middle;\n",
       "    }\n",
       "\n",
       "    .dataframe tbody tr th {\n",
       "        vertical-align: top;\n",
       "    }\n",
       "\n",
       "    .dataframe thead th {\n",
       "        text-align: right;\n",
       "    }\n",
       "</style>\n",
       "<table border=\"1\" class=\"dataframe\">\n",
       "  <thead>\n",
       "    <tr style=\"text-align: right;\">\n",
       "      <th></th>\n",
       "      <th>sentiment</th>\n",
       "      <th>id</th>\n",
       "      <th>time</th>\n",
       "      <th>flag</th>\n",
       "      <th>username</th>\n",
       "      <th>text</th>\n",
       "    </tr>\n",
       "  </thead>\n",
       "  <tbody>\n",
       "    <tr>\n",
       "      <th>250977</th>\n",
       "      <td>0</td>\n",
       "      <td>1983354434</td>\n",
       "      <td>Sun May 31 12:59:58 PDT 2009</td>\n",
       "      <td>NO_QUERY</td>\n",
       "      <td>Yushimi</td>\n",
       "      <td>@Kardboard yea  ugh. I don't wanna move either...</td>\n",
       "    </tr>\n",
       "    <tr>\n",
       "      <th>150064</th>\n",
       "      <td>0</td>\n",
       "      <td>1883616871</td>\n",
       "      <td>Fri May 22 08:50:14 PDT 2009</td>\n",
       "      <td>NO_QUERY</td>\n",
       "      <td>philwade</td>\n",
       "      <td>Guess there's a first time for everything, my ...</td>\n",
       "    </tr>\n",
       "    <tr>\n",
       "      <th>710275</th>\n",
       "      <td>0</td>\n",
       "      <td>2257860040</td>\n",
       "      <td>Sat Jun 20 15:00:38 PDT 2009</td>\n",
       "      <td>NO_QUERY</td>\n",
       "      <td>JBnVFCLover786</td>\n",
       "      <td>My cousin is going to America and it's NOT FAI...</td>\n",
       "    </tr>\n",
       "    <tr>\n",
       "      <th>367641</th>\n",
       "      <td>0</td>\n",
       "      <td>2049251254</td>\n",
       "      <td>Fri Jun 05 16:33:26 PDT 2009</td>\n",
       "      <td>NO_QUERY</td>\n",
       "      <td>ChelseyHart</td>\n",
       "      <td>@mitchelmusso Ahh this is my first comment to ...</td>\n",
       "    </tr>\n",
       "    <tr>\n",
       "      <th>575674</th>\n",
       "      <td>0</td>\n",
       "      <td>2211153017</td>\n",
       "      <td>Wed Jun 17 12:30:03 PDT 2009</td>\n",
       "      <td>NO_QUERY</td>\n",
       "      <td>GGirl33</td>\n",
       "      <td>taking care of my good friend jessica she is s...</td>\n",
       "    </tr>\n",
       "  </tbody>\n",
       "</table>\n",
       "</div>"
      ],
      "text/plain": [
       "        sentiment          id                          time      flag  \\\n",
       "250977          0  1983354434  Sun May 31 12:59:58 PDT 2009  NO_QUERY   \n",
       "150064          0  1883616871  Fri May 22 08:50:14 PDT 2009  NO_QUERY   \n",
       "710275          0  2257860040  Sat Jun 20 15:00:38 PDT 2009  NO_QUERY   \n",
       "367641          0  2049251254  Fri Jun 05 16:33:26 PDT 2009  NO_QUERY   \n",
       "575674          0  2211153017  Wed Jun 17 12:30:03 PDT 2009  NO_QUERY   \n",
       "\n",
       "              username                                               text  \n",
       "250977         Yushimi  @Kardboard yea  ugh. I don't wanna move either...  \n",
       "150064        philwade  Guess there's a first time for everything, my ...  \n",
       "710275  JBnVFCLover786  My cousin is going to America and it's NOT FAI...  \n",
       "367641     ChelseyHart  @mitchelmusso Ahh this is my first comment to ...  \n",
       "575674         GGirl33  taking care of my good friend jessica she is s...  "
      ]
     },
     "execution_count": 17,
     "metadata": {
      "tags": []
     },
     "output_type": "execute_result"
    }
   ],
   "source": [
    "train = pd.read_csv(\"./training.1600000.processed.noemoticon.csv\", header=None, encoding='latin-1', sep=',')\n",
    "train.columns = ['sentiment', 'id', 'time', 'flag', 'username', 'text']\n",
    "train = train.iloc[np.random.permutation(len(train))][:100000]\n",
    "train.head()"
   ]
  },
  {
   "cell_type": "code",
   "execution_count": 18,
   "metadata": {
    "colab": {
     "base_uri": "https://localhost:8080/",
     "height": 34
    },
    "colab_type": "code",
    "id": "KgOJMbKS4GtW",
    "outputId": "32522a5c-ea60-475c-9267-84dbb86ff5c2"
   },
   "outputs": [
    {
     "data": {
      "text/plain": [
       "array([0, 4])"
      ]
     },
     "execution_count": 18,
     "metadata": {
      "tags": []
     },
     "output_type": "execute_result"
    }
   ],
   "source": [
    "train.sentiment.unique()"
   ]
  },
  {
   "cell_type": "code",
   "execution_count": 19,
   "metadata": {
    "colab": {
     "base_uri": "https://localhost:8080/",
     "height": 289
    },
    "colab_type": "code",
    "id": "vkRO8t7h4Gta",
    "outputId": "750eaa46-b271-4617-ea08-0bc90a25b01b"
   },
   "outputs": [
    {
     "data": {
      "text/html": [
       "<div>\n",
       "<style scoped>\n",
       "    .dataframe tbody tr th:only-of-type {\n",
       "        vertical-align: middle;\n",
       "    }\n",
       "\n",
       "    .dataframe tbody tr th {\n",
       "        vertical-align: top;\n",
       "    }\n",
       "\n",
       "    .dataframe thead th {\n",
       "        text-align: right;\n",
       "    }\n",
       "</style>\n",
       "<table border=\"1\" class=\"dataframe\">\n",
       "  <thead>\n",
       "    <tr style=\"text-align: right;\">\n",
       "      <th></th>\n",
       "      <th>sentiment</th>\n",
       "      <th>id</th>\n",
       "      <th>time</th>\n",
       "      <th>flag</th>\n",
       "      <th>username</th>\n",
       "      <th>text</th>\n",
       "    </tr>\n",
       "  </thead>\n",
       "  <tbody>\n",
       "    <tr>\n",
       "      <th>0</th>\n",
       "      <td>4</td>\n",
       "      <td>3</td>\n",
       "      <td>Mon May 11 03:17:40 UTC 2009</td>\n",
       "      <td>kindle2</td>\n",
       "      <td>tpryan</td>\n",
       "      <td>@stellargirl I loooooooovvvvvveee my Kindle2. ...</td>\n",
       "    </tr>\n",
       "    <tr>\n",
       "      <th>1</th>\n",
       "      <td>4</td>\n",
       "      <td>4</td>\n",
       "      <td>Mon May 11 03:18:03 UTC 2009</td>\n",
       "      <td>kindle2</td>\n",
       "      <td>vcu451</td>\n",
       "      <td>Reading my kindle2...  Love it... Lee childs i...</td>\n",
       "    </tr>\n",
       "    <tr>\n",
       "      <th>2</th>\n",
       "      <td>4</td>\n",
       "      <td>5</td>\n",
       "      <td>Mon May 11 03:18:54 UTC 2009</td>\n",
       "      <td>kindle2</td>\n",
       "      <td>chadfu</td>\n",
       "      <td>Ok, first assesment of the #kindle2 ...it fuck...</td>\n",
       "    </tr>\n",
       "    <tr>\n",
       "      <th>3</th>\n",
       "      <td>4</td>\n",
       "      <td>6</td>\n",
       "      <td>Mon May 11 03:19:04 UTC 2009</td>\n",
       "      <td>kindle2</td>\n",
       "      <td>SIX15</td>\n",
       "      <td>@kenburbary You'll love your Kindle2. I've had...</td>\n",
       "    </tr>\n",
       "    <tr>\n",
       "      <th>4</th>\n",
       "      <td>4</td>\n",
       "      <td>7</td>\n",
       "      <td>Mon May 11 03:21:41 UTC 2009</td>\n",
       "      <td>kindle2</td>\n",
       "      <td>yamarama</td>\n",
       "      <td>@mikefish  Fair enough. But i have the Kindle2...</td>\n",
       "    </tr>\n",
       "  </tbody>\n",
       "</table>\n",
       "</div>"
      ],
      "text/plain": [
       "   sentiment  id                          time     flag  username  \\\n",
       "0          4   3  Mon May 11 03:17:40 UTC 2009  kindle2    tpryan   \n",
       "1          4   4  Mon May 11 03:18:03 UTC 2009  kindle2    vcu451   \n",
       "2          4   5  Mon May 11 03:18:54 UTC 2009  kindle2    chadfu   \n",
       "3          4   6  Mon May 11 03:19:04 UTC 2009  kindle2     SIX15   \n",
       "4          4   7  Mon May 11 03:21:41 UTC 2009  kindle2  yamarama   \n",
       "\n",
       "                                                text  \n",
       "0  @stellargirl I loooooooovvvvvveee my Kindle2. ...  \n",
       "1  Reading my kindle2...  Love it... Lee childs i...  \n",
       "2  Ok, first assesment of the #kindle2 ...it fuck...  \n",
       "3  @kenburbary You'll love your Kindle2. I've had...  \n",
       "4  @mikefish  Fair enough. But i have the Kindle2...  "
      ]
     },
     "execution_count": 19,
     "metadata": {
      "tags": []
     },
     "output_type": "execute_result"
    }
   ],
   "source": [
    "test = pd.read_csv(\"./testdata.manual.2009.06.14.csv\", encoding='latin-1', header=None)\n",
    "test.columns = ['sentiment', 'id', 'time', 'flag', 'username', 'text']\n",
    "test = test.drop(test[test.sentiment == 2].index)\n",
    "test.head()"
   ]
  },
  {
   "cell_type": "code",
   "execution_count": 20,
   "metadata": {
    "colab": {
     "base_uri": "https://localhost:8080/",
     "height": 34
    },
    "colab_type": "code",
    "id": "EmwbihC_4Gtd",
    "outputId": "b906374c-b7b3-4e31-f56b-9601f503ed3a"
   },
   "outputs": [
    {
     "data": {
      "text/plain": [
       "array([4, 0])"
      ]
     },
     "execution_count": 20,
     "metadata": {
      "tags": []
     },
     "output_type": "execute_result"
    }
   ],
   "source": [
    "test.sentiment.unique()"
   ]
  },
  {
   "cell_type": "markdown",
   "metadata": {
    "colab_type": "text",
    "id": "CVWn-M-iwFoc"
   },
   "source": [
    "Предобработка твиттов очень важна."
   ]
  },
  {
   "cell_type": "code",
   "execution_count": 0,
   "metadata": {
    "colab": {},
    "colab_type": "code",
    "id": "raabazGy4Gth"
   },
   "outputs": [],
   "source": [
    "def clean_tweet(tweet):\n",
    "    tweet = tweet.lower()\n",
    "    tweet = re.sub(r'https?:\\/\\/.*[\\r\\n]*', '', tweet, flags=re.MULTILINE)\n",
    "    tweet = re.sub(r'[_\"\\-;%()|.,+&=*%]', '', tweet)\n",
    "    tweet = re.sub(r'\\.', ' . ', tweet)\n",
    "    tweet = re.sub(r'\\!', ' !', tweet)\n",
    "    tweet = re.sub(r'\\?', ' ?', tweet)\n",
    "    tweet = re.sub(r'\\,', ' ,', tweet)\n",
    "    tweet = re.sub(r':', ' : ', tweet)\n",
    "    tweet = re.sub(r'#', ' # ', tweet)\n",
    "    #tweet = re.sub(r'@', ' @ ', tweet)\n",
    "    tweet = re.sub(r'd .c .', 'd.c.', tweet)\n",
    "    tweet = re.sub(r'u .s .', 'd.c.', tweet)\n",
    "    tweet = re.sub(r' amp ', ' and ', tweet)\n",
    "    tweet = re.sub(r'pm', ' pm ', tweet)\n",
    "    tweet = re.sub(r'news', ' news ', tweet)\n",
    "    tweet = re.sub(r' . . . ', ' ', tweet)\n",
    "    tweet = re.sub(r' .  .  . ', ' ', tweet)\n",
    "    tweet = re.sub(r' ! ! ', ' ! ', tweet)\n",
    "    tweet = re.sub(r'&amp', 'and', tweet)\n",
    "    return tweet\n",
    "\n",
    "def preprocess(text, remove_stopwords=True):\n",
    "    text = clean_tweet(text)\n",
    "    # Convert words to lower case and split them\n",
    "    text = text.lower().split()\n",
    "\n",
    "    # Optionally, remove stop words\n",
    "    if remove_stopwords:\n",
    "        stops = set(stopwords.words(\"english\"))\n",
    "        text = [w for w in text if not w in stops]\n",
    "        \n",
    "    msg = \" \".join(text)\n",
    "    \n",
    "    for t in text:\n",
    "        if t.startswith('http'):\n",
    "            msg = msg.replace(t, 'URL')\n",
    "        if t.startswith('@'):\n",
    "            msg = msg.replace(t, 'username')\n",
    "    \n",
    "    text = msg\n",
    "    \n",
    "    # Clean the text\n",
    "    text = re.sub(r\"[^a-z]\", \" \", text)\n",
    "    text = re.sub(r\"    \", \" \", text) # Remove any extra spaces\n",
    "    text = re.sub(r\"   \", \" \", text) # Remove any extra spaces\n",
    "    text = re.sub(r\"  \", \" \", text)\n",
    "    \n",
    "    # Return a list of words\n",
    "    return(text)"
   ]
  },
  {
   "cell_type": "code",
   "execution_count": 22,
   "metadata": {
    "colab": {
     "base_uri": "https://localhost:8080/",
     "height": 88
    },
    "colab_type": "code",
    "id": "lmgXVFcJ4Gtj",
    "outputId": "b6b8118f-c047-4017-ea27-dc7c942eb965"
   },
   "outputs": [
    {
     "name": "stdout",
     "output_type": "stream",
     "text": [
      "**BEFORE PREPROC:** @Kardboard yea  ugh. I don't wanna move either because all my textbooks and noted are all out on the table. Sigh.\n",
      "----\n",
      "**AFTER PREPROC:**  username yea ugh wanna move either textbooks noted table sigh\n"
     ]
    }
   ],
   "source": [
    "# Example of preprocessor work\n",
    "print('**BEFORE PREPROC:**', train['text'].values[0])\n",
    "print('-'*4)\n",
    "print('**AFTER PREPROC:** ', preprocess(train['text'].values[0]))"
   ]
  },
  {
   "cell_type": "code",
   "execution_count": 23,
   "metadata": {
    "colab": {
     "base_uri": "https://localhost:8080/",
     "height": 173
    },
    "colab_type": "code",
    "id": "YUnabcxZ4Gtn",
    "outputId": "da10975c-f40e-455c-f009-1af2e1ca69c4"
   },
   "outputs": [
    {
     "data": {
      "text/html": [
       "<div>\n",
       "<style scoped>\n",
       "    .dataframe tbody tr th:only-of-type {\n",
       "        vertical-align: middle;\n",
       "    }\n",
       "\n",
       "    .dataframe tbody tr th {\n",
       "        vertical-align: top;\n",
       "    }\n",
       "\n",
       "    .dataframe thead th {\n",
       "        text-align: right;\n",
       "    }\n",
       "</style>\n",
       "<table border=\"1\" class=\"dataframe\">\n",
       "  <thead>\n",
       "    <tr style=\"text-align: right;\">\n",
       "      <th></th>\n",
       "      <th>text</th>\n",
       "      <th>sentiment</th>\n",
       "    </tr>\n",
       "  </thead>\n",
       "  <tbody>\n",
       "    <tr>\n",
       "      <th>250977</th>\n",
       "      <td>username yea ugh wanna move either textbooks n...</td>\n",
       "      <td>0</td>\n",
       "    </tr>\n",
       "    <tr>\n",
       "      <th>150064</th>\n",
       "      <td>guess there s first time everything cars broke...</td>\n",
       "      <td>0</td>\n",
       "    </tr>\n",
       "    <tr>\n",
       "      <th>710275</th>\n",
       "      <td>cousin going america fair know wayyy pppl does...</td>\n",
       "      <td>0</td>\n",
       "    </tr>\n",
       "    <tr>\n",
       "      <th>367641</th>\n",
       "      <td>username ahh first comment youu love xxxand pl...</td>\n",
       "      <td>0</td>\n",
       "    </tr>\n",
       "  </tbody>\n",
       "</table>\n",
       "</div>"
      ],
      "text/plain": [
       "                                                     text  sentiment\n",
       "250977  username yea ugh wanna move either textbooks n...          0\n",
       "150064  guess there s first time everything cars broke...          0\n",
       "710275  cousin going america fair know wayyy pppl does...          0\n",
       "367641  username ahh first comment youu love xxxand pl...          0"
      ]
     },
     "execution_count": 23,
     "metadata": {
      "tags": []
     },
     "output_type": "execute_result"
    }
   ],
   "source": [
    "train = train[['text','sentiment']]\n",
    "train['text'] = list(map(preprocess, train['text']))\n",
    "train[:4]"
   ]
  },
  {
   "cell_type": "code",
   "execution_count": 24,
   "metadata": {
    "colab": {
     "base_uri": "https://localhost:8080/",
     "height": 241
    },
    "colab_type": "code",
    "id": "rCw447kl4Gtr",
    "outputId": "5f6ab43d-2a64-438a-9c19-aca1f9e0ac21"
   },
   "outputs": [
    {
     "data": {
      "text/html": [
       "<div>\n",
       "<style scoped>\n",
       "    .dataframe tbody tr th:only-of-type {\n",
       "        vertical-align: middle;\n",
       "    }\n",
       "\n",
       "    .dataframe tbody tr th {\n",
       "        vertical-align: top;\n",
       "    }\n",
       "\n",
       "    .dataframe thead th {\n",
       "        text-align: right;\n",
       "    }\n",
       "</style>\n",
       "<table border=\"1\" class=\"dataframe\">\n",
       "  <thead>\n",
       "    <tr style=\"text-align: right;\">\n",
       "      <th></th>\n",
       "      <th>sentiment</th>\n",
       "      <th>id</th>\n",
       "      <th>time</th>\n",
       "      <th>flag</th>\n",
       "      <th>username</th>\n",
       "      <th>text</th>\n",
       "    </tr>\n",
       "  </thead>\n",
       "  <tbody>\n",
       "    <tr>\n",
       "      <th>0</th>\n",
       "      <td>4</td>\n",
       "      <td>3</td>\n",
       "      <td>Mon May 11 03:17:40 UTC 2009</td>\n",
       "      <td>kindle2</td>\n",
       "      <td>tpryan</td>\n",
       "      <td>username loooooooovvvvvveee kindle dx cool fan...</td>\n",
       "    </tr>\n",
       "    <tr>\n",
       "      <th>1</th>\n",
       "      <td>4</td>\n",
       "      <td>4</td>\n",
       "      <td>Mon May 11 03:18:03 UTC 2009</td>\n",
       "      <td>kindle2</td>\n",
       "      <td>vcu451</td>\n",
       "      <td>reading kindle love lee childs good read</td>\n",
       "    </tr>\n",
       "    <tr>\n",
       "      <th>2</th>\n",
       "      <td>4</td>\n",
       "      <td>5</td>\n",
       "      <td>Mon May 11 03:18:54 UTC 2009</td>\n",
       "      <td>kindle2</td>\n",
       "      <td>chadfu</td>\n",
       "      <td>ok first assesment kindle fucking rocks</td>\n",
       "    </tr>\n",
       "    <tr>\n",
       "      <th>3</th>\n",
       "      <td>4</td>\n",
       "      <td>6</td>\n",
       "      <td>Mon May 11 03:19:04 UTC 2009</td>\n",
       "      <td>kindle2</td>\n",
       "      <td>SIX15</td>\n",
       "      <td>username love kindle i ve mine months never lo...</td>\n",
       "    </tr>\n",
       "  </tbody>\n",
       "</table>\n",
       "</div>"
      ],
      "text/plain": [
       "   sentiment  id                          time     flag username  \\\n",
       "0          4   3  Mon May 11 03:17:40 UTC 2009  kindle2   tpryan   \n",
       "1          4   4  Mon May 11 03:18:03 UTC 2009  kindle2   vcu451   \n",
       "2          4   5  Mon May 11 03:18:54 UTC 2009  kindle2   chadfu   \n",
       "3          4   6  Mon May 11 03:19:04 UTC 2009  kindle2    SIX15   \n",
       "\n",
       "                                                text  \n",
       "0  username loooooooovvvvvveee kindle dx cool fan...  \n",
       "1           reading kindle love lee childs good read  \n",
       "2           ok first assesment kindle fucking rocks   \n",
       "3  username love kindle i ve mine months never lo...  "
      ]
     },
     "execution_count": 24,
     "metadata": {
      "tags": []
     },
     "output_type": "execute_result"
    }
   ],
   "source": [
    "test['text'] = list(map(preprocess, test['text']))\n",
    "test[:4]"
   ]
  },
  {
   "cell_type": "code",
   "execution_count": 0,
   "metadata": {
    "colab": {},
    "colab_type": "code",
    "id": "qj7d4iBUzk4A"
   },
   "outputs": [],
   "source": [
    "# Поменяем метки классов на более естественные:\n",
    "\n",
    "# 0:negative, 4:positive\n",
    "translate_labels = {0:0, 4:1} # 0:0 -- просто для наглядности:)\n",
    "train.sentiment = [translate_labels[t] for t in train.sentiment]\n",
    "test.sentiment = [translate_labels[t] for t in test.sentiment]"
   ]
  },
  {
   "cell_type": "code",
   "execution_count": 0,
   "metadata": {
    "colab": {},
    "colab_type": "code",
    "id": "3fp9PMqfDtTz"
   },
   "outputs": [],
   "source": [
    "train.to_csv(\"preprocessed_train.csv\", index=False)"
   ]
  },
  {
   "cell_type": "markdown",
   "metadata": {
    "colab_type": "text",
    "id": "sduh6xui4Gtu"
   },
   "source": [
    "# Бейзлайн"
   ]
  },
  {
   "cell_type": "code",
   "execution_count": 0,
   "metadata": {
    "colab": {},
    "colab_type": "code",
    "id": "uWf8JtSc4Gtv"
   },
   "outputs": [],
   "source": [
    "from sklearn.feature_extraction.text import TfidfVectorizer \n",
    "transformer = TfidfVectorizer(min_df=40, max_features=6000)\n",
    "X_train = transformer.fit_transform(train.text)"
   ]
  },
  {
   "cell_type": "code",
   "execution_count": 0,
   "metadata": {
    "colab": {},
    "colab_type": "code",
    "id": "vrRwW76R4Gtz"
   },
   "outputs": [],
   "source": [
    "X_test = transformer.transform(test.text)"
   ]
  },
  {
   "cell_type": "code",
   "execution_count": 0,
   "metadata": {
    "colab": {},
    "colab_type": "code",
    "id": "ohsaDHSs4Gt4"
   },
   "outputs": [],
   "source": [
    "y_train = train.sentiment\n",
    "y_test = test.sentiment"
   ]
  },
  {
   "cell_type": "code",
   "execution_count": 30,
   "metadata": {
    "colab": {
     "base_uri": "https://localhost:8080/",
     "height": 85
    },
    "colab_type": "code",
    "id": "9hBHt1dk4Gt7",
    "outputId": "bcedac35-945a-4afd-d0d2-0d3d456d2c5b"
   },
   "outputs": [
    {
     "data": {
      "text/plain": [
       "LogisticRegression(C=1.0, class_weight=None, dual=False, fit_intercept=True,\n",
       "          intercept_scaling=1, max_iter=100, multi_class='ovr', n_jobs=1,\n",
       "          penalty='l2', random_state=None, solver='liblinear', tol=0.0001,\n",
       "          verbose=0, warm_start=False)"
      ]
     },
     "execution_count": 30,
     "metadata": {
      "tags": []
     },
     "output_type": "execute_result"
    }
   ],
   "source": [
    "from sklearn.linear_model import LogisticRegression\n",
    "\n",
    "lr = LogisticRegression()\n",
    "lr.fit(X_train, y_train)"
   ]
  },
  {
   "cell_type": "code",
   "execution_count": 0,
   "metadata": {
    "colab": {},
    "colab_type": "code",
    "id": "8nbMFb5M4GuA"
   },
   "outputs": [],
   "source": [
    "# check on test part\n",
    "from sklearn.metrics import f1_score, roc_auc_score \n",
    "test_pred = lr.predict_proba(X_test)"
   ]
  },
  {
   "cell_type": "code",
   "execution_count": 32,
   "metadata": {
    "colab": {
     "base_uri": "https://localhost:8080/",
     "height": 102
    },
    "colab_type": "code",
    "id": "WblSPmoL0V9Y",
    "outputId": "ed95e140-f772-4b92-c4fe-344e103fb1eb"
   },
   "outputs": [
    {
     "data": {
      "text/plain": [
       "array([[0.04662514, 0.95337486],\n",
       "       [0.05971427, 0.94028573],\n",
       "       [0.18586406, 0.81413594],\n",
       "       [0.72101223, 0.27898777],\n",
       "       [0.51532977, 0.48467023]])"
      ]
     },
     "execution_count": 32,
     "metadata": {
      "tags": []
     },
     "output_type": "execute_result"
    }
   ],
   "source": [
    "test_pred[:5]"
   ]
  },
  {
   "cell_type": "markdown",
   "metadata": {
    "colab_type": "text",
    "id": "O9__iSBB4GuN"
   },
   "source": [
    "**Для удобства возьмем в качестве метрики roc_auc**"
   ]
  },
  {
   "cell_type": "code",
   "execution_count": 33,
   "metadata": {
    "colab": {
     "base_uri": "https://localhost:8080/",
     "height": 34
    },
    "colab_type": "code",
    "id": "_TeAzsLE4GuO",
    "outputId": "05b43d1c-b1d4-478c-d7cc-601299b1dedc"
   },
   "outputs": [
    {
     "data": {
      "text/plain": [
       "0.8664400571180232"
      ]
     },
     "execution_count": 33,
     "metadata": {
      "tags": []
     },
     "output_type": "execute_result"
    }
   ],
   "source": [
    "roc_auc_score(y_test, test_pred[:,1])"
   ]
  },
  {
   "cell_type": "markdown",
   "metadata": {
    "colab_type": "text",
    "id": "LLCk8VQP4GuT"
   },
   "source": [
    "Это и есть то самое значение, которое необходимо превзойти."
   ]
  },
  {
   "cell_type": "markdown",
   "metadata": {
    "colab_type": "text",
    "id": "b7amP9O54GuU"
   },
   "source": [
    "# Tensorflow вступает в игру"
   ]
  },
  {
   "cell_type": "code",
   "execution_count": 0,
   "metadata": {
    "colab": {},
    "colab_type": "code",
    "id": "ndpHlAwQ4GuV"
   },
   "outputs": [],
   "source": [
    "import tensorflow as tf\n",
    "from tensorflow.keras.preprocessing.text import Tokenizer"
   ]
  },
  {
   "cell_type": "code",
   "execution_count": 35,
   "metadata": {
    "colab": {
     "base_uri": "https://localhost:8080/",
     "height": 306
    },
    "colab_type": "code",
    "id": "7j8JKLD85LYH",
    "outputId": "161a227b-0a99-46d7-b714-45ddea92db4d"
   },
   "outputs": [
    {
     "name": "stdout",
     "output_type": "stream",
     "text": [
      "[name: \"/device:CPU:0\"\n",
      "device_type: \"CPU\"\n",
      "memory_limit: 268435456\n",
      "locality {\n",
      "}\n",
      "incarnation: 11711264728952129575\n",
      ", name: \"/device:GPU:0\"\n",
      "device_type: \"GPU\"\n",
      "memory_limit: 11281553818\n",
      "locality {\n",
      "  bus_id: 1\n",
      "  links {\n",
      "  }\n",
      "}\n",
      "incarnation: 5030056746228330867\n",
      "physical_device_desc: \"device: 0, name: Tesla K80, pci bus id: 0000:00:04.0, compute capability: 3.7\"\n",
      "]\n"
     ]
    }
   ],
   "source": [
    "from tensorflow.python.client import device_lib\n",
    "print(device_lib.list_local_devices())"
   ]
  },
  {
   "cell_type": "markdown",
   "metadata": {
    "colab_type": "text",
    "id": "JRn9kV_G4Gua"
   },
   "source": [
    "**Готовим датасет**"
   ]
  },
  {
   "cell_type": "code",
   "execution_count": 0,
   "metadata": {
    "colab": {},
    "colab_type": "code",
    "id": "y3Hk7flO4Gua"
   },
   "outputs": [],
   "source": [
    "tokenizer = Tokenizer(char_level=False)"
   ]
  },
  {
   "cell_type": "code",
   "execution_count": 0,
   "metadata": {
    "colab": {},
    "colab_type": "code",
    "id": "zxA-912p4Gue"
   },
   "outputs": [],
   "source": [
    "tokenizer.fit_on_texts(train.text)\n",
    "vocab_size = len(tokenizer.word_index)"
   ]
  },
  {
   "cell_type": "code",
   "execution_count": 38,
   "metadata": {
    "colab": {
     "base_uri": "https://localhost:8080/",
     "height": 34
    },
    "colab_type": "code",
    "id": "G1EDpcTpJmC5",
    "outputId": "f26ca8d8-1d8b-4477-bce5-4714bc4a3feb"
   },
   "outputs": [
    {
     "data": {
      "text/plain": [
       "61896"
      ]
     },
     "execution_count": 38,
     "metadata": {
      "tags": []
     },
     "output_type": "execute_result"
    }
   ],
   "source": [
    "vocab_size"
   ]
  },
  {
   "cell_type": "code",
   "execution_count": 0,
   "metadata": {
    "colab": {},
    "colab_type": "code",
    "id": "UMqNgZm94Gug"
   },
   "outputs": [],
   "source": [
    "train_seqs = tokenizer.texts_to_sequences(train.text)"
   ]
  },
  {
   "cell_type": "code",
   "execution_count": 40,
   "metadata": {
    "colab": {
     "base_uri": "https://localhost:8080/",
     "height": 34
    },
    "colab_type": "code",
    "id": "cSYGNuW006ww",
    "outputId": "abc49e3a-7bf9-4aab-a363-ea5f8516ed3f"
   },
   "outputs": [
    {
     "name": "stdout",
     "output_type": "stream",
     "text": [
      "[157, 312, 4, 91, 15, 258, 2008, 586, 3, 2, 61, 14, 15247, 60]\n"
     ]
    }
   ],
   "source": [
    "print(train_seqs[1])"
   ]
  },
  {
   "cell_type": "code",
   "execution_count": 41,
   "metadata": {
    "colab": {
     "base_uri": "https://localhost:8080/",
     "height": 281
    },
    "colab_type": "code",
    "id": "d_V8NgTU4Gui",
    "outputId": "98bf11b9-38b2-48cb-aeb0-ff438a233fce"
   },
   "outputs": [
    {
     "data": {
      "image/png": "[encoded data removed]",
      "text/plain": [
       "<matplotlib.figure.Figure at 0x7fd14f534ba8>"
      ]
     },
     "metadata": {
      "tags": []
     },
     "output_type": "display_data"
    }
   ],
   "source": [
    "plt.hist([len(x) for x in train_seqs])\n",
    "plt.title(\"Распределение длин последовательностей\")\n",
    "plt.show()"
   ]
  },
  {
   "cell_type": "code",
   "execution_count": 0,
   "metadata": {
    "colab": {},
    "colab_type": "code",
    "id": "lAmhEmtP4Gum"
   },
   "outputs": [],
   "source": [
    "from tensorflow.keras.preprocessing.sequence import pad_sequences"
   ]
  },
  {
   "cell_type": "code",
   "execution_count": 0,
   "metadata": {
    "colab": {},
    "colab_type": "code",
    "id": "DD9LIm5d4Guo"
   },
   "outputs": [],
   "source": [
    "# обрезаем последовательности в начале, добиваем нулями до 20 при необходимости в конце\n",
    "# тут можно все поменять на свой вкус, конечно же\n",
    "padded = pad_sequences(train_seqs, maxlen=20, dtype='int32', padding='post', truncating='pre', value=0.0)"
   ]
  },
  {
   "cell_type": "code",
   "execution_count": 44,
   "metadata": {
    "colab": {
     "base_uri": "https://localhost:8080/",
     "height": 34
    },
    "colab_type": "code",
    "id": "5T2LBcsy4Guq",
    "outputId": "b8ba035c-1fa0-4113-ed12-4a9fe16a32ca"
   },
   "outputs": [
    {
     "data": {
      "text/plain": [
       "(100000, 20)"
      ]
     },
     "execution_count": 44,
     "metadata": {
      "tags": []
     },
     "output_type": "execute_result"
    }
   ],
   "source": [
    "padded.shape"
   ]
  },
  {
   "cell_type": "code",
   "execution_count": 45,
   "metadata": {
    "colab": {
     "base_uri": "https://localhost:8080/",
     "height": 68
    },
    "colab_type": "code",
    "id": "4AHfIWYt1ey_",
    "outputId": "d7dc719d-e6f7-43c0-cfe1-d3c1cc523ae9"
   },
   "outputs": [
    {
     "data": {
      "text/plain": [
       "array([    1,   579,   190,    98,   510,   394, 15246,  7232,  1812,\n",
       "         511,     0,     0,     0,     0,     0,     0,     0,     0,\n",
       "           0,     0], dtype=int32)"
      ]
     },
     "execution_count": 45,
     "metadata": {
      "tags": []
     },
     "output_type": "execute_result"
    }
   ],
   "source": [
    "padded[0]"
   ]
  },
  {
   "cell_type": "markdown",
   "metadata": {
    "colab_type": "text",
    "id": "QRMZvpFIQ4aC"
   },
   "source": [
    "#### Загружаем эмбеддинги"
   ]
  },
  {
   "cell_type": "code",
   "execution_count": 0,
   "metadata": {
    "colab": {},
    "colab_type": "code",
    "id": "7tfb6UozQ9vg"
   },
   "outputs": [],
   "source": [
    "#Load GLOVE vectors\n",
    "filepath_glove = 'glove.twitter.27B.100d.txt'\n",
    "glove_vocab = []\n",
    "glove_embd=[]\n",
    "embedding_dict = {}\n",
    " \n",
    "file = open(filepath_glove,'r',encoding='UTF-8')\n",
    "for line in file.readlines():\n",
    "    row = line.strip().split(' ')\n",
    "    vocab_word = row[0]\n",
    "    glove_vocab.append(vocab_word)\n",
    "    embed_vector = [float(i) for i in row[1:]] # convert to list of float\n",
    "    embedding_dict[vocab_word]=embed_vector\n",
    "file.close()"
   ]
  },
  {
   "cell_type": "code",
   "execution_count": 47,
   "metadata": {
    "colab": {
     "base_uri": "https://localhost:8080/",
     "height": 34
    },
    "colab_type": "code",
    "id": "6W0BOjk7SozR",
    "outputId": "5712a075-b698-43e3-cc06-bdf35cd59383"
   },
   "outputs": [
    {
     "data": {
      "text/plain": [
       "1193515"
      ]
     },
     "execution_count": 47,
     "metadata": {
      "tags": []
     },
     "output_type": "execute_result"
    }
   ],
   "source": [
    "len(embedding_dict)"
   ]
  },
  {
   "cell_type": "code",
   "execution_count": 48,
   "metadata": {
    "colab": {
     "base_uri": "https://localhost:8080/",
     "height": 34
    },
    "colab_type": "code",
    "id": "LgZmxc-Z38TR",
    "outputId": "3072f76b-4be7-449a-8df3-92495f08ef91"
   },
   "outputs": [
    {
     "data": {
      "text/plain": [
       "100"
      ]
     },
     "execution_count": 48,
     "metadata": {
      "tags": []
     },
     "output_type": "execute_result"
    }
   ],
   "source": [
    "len(embedding_dict['good'])"
   ]
  },
  {
   "cell_type": "code",
   "execution_count": 49,
   "metadata": {
    "colab": {
     "base_uri": "https://localhost:8080/",
     "height": 34
    },
    "colab_type": "code",
    "id": "XIHKH7EZTGot",
    "outputId": "c4555631-9db5-44ae-faf4-891c9c5b86bb"
   },
   "outputs": [
    {
     "data": {
      "text/plain": [
       "61896"
      ]
     },
     "execution_count": 49,
     "metadata": {
      "tags": []
     },
     "output_type": "execute_result"
    }
   ],
   "source": [
    "len(tokenizer.word_index)"
   ]
  },
  {
   "cell_type": "markdown",
   "metadata": {
    "colab_type": "text",
    "id": "wY45yY4e1By8"
   },
   "source": [
    "Подготовим матрицу для инициализации матрицы эмбеддингов модели."
   ]
  },
  {
   "cell_type": "code",
   "execution_count": 0,
   "metadata": {
    "colab": {},
    "colab_type": "code",
    "id": "V_a92CfnRE8R"
   },
   "outputs": [],
   "source": [
    "# prepare embedding matrix\n",
    "num_words = vocab_size+1\n",
    "embedding_matrix = np.zeros((num_words, 100))\n",
    "for word, i in tokenizer.word_index.items():\n",
    "    embedding_vector = embedding_dict.get(word)\n",
    "    if embedding_vector is not None:\n",
    "        # words not found in embedding index will be all-zeros.\n",
    "        embedding_matrix[i] = embedding_vector\n"
   ]
  },
  {
   "cell_type": "code",
   "execution_count": 51,
   "metadata": {
    "colab": {
     "base_uri": "https://localhost:8080/",
     "height": 34
    },
    "colab_type": "code",
    "id": "VVF7fQzCR_oX",
    "outputId": "80ad1eeb-d793-4a3d-8330-84b31b2ad324"
   },
   "outputs": [
    {
     "data": {
      "text/plain": [
       "(61897, 100)"
      ]
     },
     "execution_count": 51,
     "metadata": {
      "tags": []
     },
     "output_type": "execute_result"
    }
   ],
   "source": [
    "embedding_matrix.shape"
   ]
  },
  {
   "cell_type": "code",
   "execution_count": 52,
   "metadata": {
    "colab": {
     "base_uri": "https://localhost:8080/",
     "height": 357
    },
    "colab_type": "code",
    "id": "tKnSGyHDSPA5",
    "outputId": "dc8269d1-21c5-4f78-c970-cd51fee2aa64"
   },
   "outputs": [
    {
     "data": {
      "text/plain": [
       "array([ 8.5651e-02, -1.4665e-02, -2.0531e-01, -1.3928e-01, -4.5531e-01,\n",
       "        6.6880e-01, -1.5448e-01,  3.2308e-01, -5.1561e-01,  9.6171e-02,\n",
       "       -3.6832e-02,  2.7032e-01, -2.8622e+00,  4.1572e-01, -2.2041e-01,\n",
       "       -8.2353e-01, -7.0891e-01, -3.1757e-01, -7.4595e-01,  1.1605e+00,\n",
       "       -2.9937e-04, -1.3276e-02,  5.3844e-01,  3.2003e-01,  3.9048e-01,\n",
       "       -2.2494e+00, -6.9214e-01, -3.2294e-01,  6.8427e-01,  5.9943e-01,\n",
       "       -9.1371e-02, -5.6070e-01, -3.1685e-01, -1.1708e-01,  1.7076e+00,\n",
       "       -6.3555e-01, -4.3287e-01, -2.2535e-01,  3.5899e-01,  2.3817e-01,\n",
       "       -1.8517e+00,  3.0939e-01,  4.7932e-01, -8.7741e-01, -1.8584e-01,\n",
       "       -5.0600e-01,  2.8379e-02, -7.2791e-01,  8.4749e-02, -7.0856e-01,\n",
       "        3.5898e-01, -2.6869e-01,  1.2857e-01,  3.7286e-01,  3.6686e-01,\n",
       "       -2.9323e-01,  3.7081e-01, -6.0298e-01,  2.4040e-01, -5.0550e-01,\n",
       "       -2.8867e-01, -4.5598e-01,  7.7508e-02,  1.0154e-01,  2.9443e-01,\n",
       "        4.2504e-01, -2.3515e-01,  4.4486e-01, -1.5291e-01, -1.0447e-01,\n",
       "        2.9614e-01, -6.3704e-01,  3.1613e-01,  2.7299e-01, -6.2677e-01,\n",
       "        5.8366e-01, -7.3846e-01,  1.0140e+00, -7.8185e-02, -5.2589e-01,\n",
       "        1.4557e+00,  3.6629e-01,  3.7527e-01,  3.3924e-02, -1.3459e-01,\n",
       "        7.2309e-01, -7.9871e-01,  1.2158e-01,  2.5512e-01,  5.7559e-01,\n",
       "        5.3372e-01, -3.7430e-01, -2.1475e-01,  1.2555e-01,  7.2887e-01,\n",
       "       -5.7377e-01, -8.9212e-01, -3.1556e-01,  4.4199e-01, -4.0687e-01])"
      ]
     },
     "execution_count": 52,
     "metadata": {
      "tags": []
     },
     "output_type": "execute_result"
    }
   ],
   "source": [
    "embedding_matrix[3]"
   ]
  },
  {
   "cell_type": "markdown",
   "metadata": {
    "colab_type": "text",
    "id": "Bm6o4yBo4Gux"
   },
   "source": [
    "**Теперь Tensorflow точно вступает в игру**\n",
    "\n",
    "Изготовим теперь удобный **tf.data.Dataset**\n",
    "\n",
    "Более подробно можно прочитать об этом [здесь](https://towardsdatascience.com/how-to-use-dataset-in-tensorflow-c758ef9e4428) и [здесь](https://www.tensorflow.org/performance/datasets_performance)"
   ]
  },
  {
   "cell_type": "code",
   "execution_count": 0,
   "metadata": {
    "colab": {},
    "colab_type": "code",
    "id": "xhx2FtZTDYw7"
   },
   "outputs": [],
   "source": [
    "tf.reset_default_graph()"
   ]
  },
  {
   "cell_type": "code",
   "execution_count": 0,
   "metadata": {
    "colab": {},
    "colab_type": "code",
    "id": "tH7wlrWRByp8"
   },
   "outputs": [],
   "source": [
    "emb_size = 100\n",
    "BATCH_SIZE = 200\n",
    "learning_rate = 0.001\n",
    "EPOCHS = 1"
   ]
  },
  {
   "cell_type": "code",
   "execution_count": 0,
   "metadata": {
    "colab": {},
    "colab_type": "code",
    "id": "agmderJ4IbOM"
   },
   "outputs": [],
   "source": [
    "y_train = np.array(train.sentiment)\n",
    "y_train = np.expand_dims(y_train, axis=1)"
   ]
  },
  {
   "cell_type": "code",
   "execution_count": 56,
   "metadata": {
    "colab": {
     "base_uri": "https://localhost:8080/",
     "height": 136
    },
    "colab_type": "code",
    "id": "PgwcdOcxNqus",
    "outputId": "b83aeac4-3ffb-4be7-8d9d-ef86a7ef52e2"
   },
   "outputs": [
    {
     "data": {
      "text/plain": [
       "array([[0],\n",
       "       [0],\n",
       "       [0],\n",
       "       ...,\n",
       "       [0],\n",
       "       [1],\n",
       "       [1]])"
      ]
     },
     "execution_count": 56,
     "metadata": {
      "tags": []
     },
     "output_type": "execute_result"
    }
   ],
   "source": [
    "y_train"
   ]
  },
  {
   "cell_type": "code",
   "execution_count": 0,
   "metadata": {
    "colab": {},
    "colab_type": "code",
    "id": "eIvZj2y14Gux"
   },
   "outputs": [],
   "source": [
    "dataset = tf.data.Dataset.from_tensor_slices((padded, y_train)).shuffle(BATCH_SIZE).repeat().batch(BATCH_SIZE)"
   ]
  },
  {
   "cell_type": "code",
   "execution_count": 58,
   "metadata": {
    "colab": {
     "base_uri": "https://localhost:8080/",
     "height": 34
    },
    "colab_type": "code",
    "id": "jA53ggZj6dAS",
    "outputId": "e254e48b-2d4c-45a4-c8a9-25a1fd0977a5"
   },
   "outputs": [
    {
     "data": {
      "text/plain": [
       "<BatchDataset shapes: ((?, 20), (?, 1)), types: (tf.int32, tf.int64)>"
      ]
     },
     "execution_count": 58,
     "metadata": {
      "tags": []
     },
     "output_type": "execute_result"
    }
   ],
   "source": [
    "dataset"
   ]
  },
  {
   "cell_type": "markdown",
   "metadata": {
    "colab_type": "text",
    "id": "MP1BpiohAZfV"
   },
   "source": [
    "С помощью dataset API можно удобно делать итератор для имеющихся данных."
   ]
  },
  {
   "cell_type": "code",
   "execution_count": 59,
   "metadata": {
    "colab": {
     "base_uri": "https://localhost:8080/",
     "height": 54
    },
    "colab_type": "code",
    "id": "xcPxVUjV4Guz",
    "outputId": "393b85e8-ac60-4f7a-b8e1-fe6d571909c1"
   },
   "outputs": [
    {
     "name": "stdout",
     "output_type": "stream",
     "text": [
      "(<tf.Tensor 'IteratorGetNext:0' shape=(?, 20) dtype=int32>, <tf.Tensor 'IteratorGetNext:1' shape=(?, 1) dtype=int64>)\n"
     ]
    }
   ],
   "source": [
    "iterator = dataset.make_one_shot_iterator()\n",
    "get_next = iterator.get_next()\n",
    "print(get_next)\n",
    "inputs, labels = get_next"
   ]
  },
  {
   "cell_type": "markdown",
   "metadata": {
    "colab_type": "text",
    "id": "JgKjyHJJ7sdd"
   },
   "source": [
    "**Модель**\n",
    "\n",
    "Мы хотим сделать очень простую модель с однослойной LSTM ячейкой, которая будет пробегать по всей последовательности из слов длины 20. На каждом элементе последовательности LSTM выдает output. Мы хотим использовать output'ы для предсказания вероятности принадлежности последовательности к классу позитивных твиттов."
   ]
  },
  {
   "cell_type": "markdown",
   "metadata": {
    "colab_type": "text",
    "id": "T5Zzq2J51le2"
   },
   "source": [
    "Матрицу эмбеддингов фиксируем, она не будет тренироваться в процессе обучения модели. "
   ]
  },
  {
   "cell_type": "code",
   "execution_count": 0,
   "metadata": {
    "colab": {},
    "colab_type": "code",
    "id": "Nl9jIipdJmDd"
   },
   "outputs": [],
   "source": [
    "embedding_mtx = tf.get_variable(name=\"embedding_mtx\",\n",
    "                                shape=embedding_matrix.shape,\n",
    "                                initializer=tf.constant_initializer(embedding_matrix),\n",
    "                                trainable=False)"
   ]
  },
  {
   "cell_type": "markdown",
   "metadata": {
    "colab_type": "text",
    "id": "uXvsePQj1wAB"
   },
   "source": [
    "Эта функция позволяет по индексам элементов входной последовательности (`inputs`) составить матрицу из соответствующих векторов слов из матрицы эмбеддингов (`embedding_mtx`)."
   ]
  },
  {
   "cell_type": "code",
   "execution_count": 0,
   "metadata": {
    "colab": {},
    "colab_type": "code",
    "id": "V0dp0CquB8_G"
   },
   "outputs": [],
   "source": [
    "inputs_embedded = tf.nn.embedding_lookup(params=embedding_mtx, ids=inputs)"
   ]
  },
  {
   "cell_type": "markdown",
   "metadata": {
    "colab_type": "text",
    "id": "J34nraUu2KrW"
   },
   "source": [
    "Посмотрим на размерность полученной матрицы: [размер батча, длина последовательности, размерность эмбеддинга]"
   ]
  },
  {
   "cell_type": "code",
   "execution_count": 62,
   "metadata": {
    "colab": {
     "base_uri": "https://localhost:8080/",
     "height": 34
    },
    "colab_type": "code",
    "id": "mEIl4y4RCkhi",
    "outputId": "6f54ffdf-3efe-41a4-92b7-569ba9c01c2a"
   },
   "outputs": [
    {
     "data": {
      "text/plain": [
       "<tf.Tensor 'embedding_lookup/Identity:0' shape=(?, 20, 100) dtype=float32>"
      ]
     },
     "execution_count": 62,
     "metadata": {
      "tags": []
     },
     "output_type": "execute_result"
    }
   ],
   "source": [
    "inputs_embedded"
   ]
  },
  {
   "cell_type": "markdown",
   "metadata": {
    "colab_type": "text",
    "id": "GsY4TYaG4R9G"
   },
   "source": [
    "Однослойная LSTM сеть с размерностью выхода 100:"
   ]
  },
  {
   "cell_type": "code",
   "execution_count": 0,
   "metadata": {
    "colab": {},
    "colab_type": "code",
    "id": "iPahVzMT4Gu1"
   },
   "outputs": [],
   "source": [
    "outputs, states = tf.nn.dynamic_rnn(cell=tf.nn.rnn_cell.LSTMCell(100), inputs=inputs_embedded, dtype=tf.float32)"
   ]
  },
  {
   "cell_type": "markdown",
   "metadata": {
    "colab_type": "text",
    "id": "ITShbq-Y5xhE"
   },
   "source": [
    "outputs -- это выходы LSTM после каждого элемента последовательности."
   ]
  },
  {
   "cell_type": "code",
   "execution_count": 0,
   "metadata": {
    "colab": {},
    "colab_type": "code",
    "id": "wO7SP7065vmK"
   },
   "outputs": [],
   "source": [
    "outputs = tf.layers.flatten(outputs)"
   ]
  },
  {
   "cell_type": "code",
   "execution_count": 0,
   "metadata": {
    "colab": {},
    "colab_type": "code",
    "id": "o0auPGwzFKcF"
   },
   "outputs": [],
   "source": [
    "logits = tf.layers.dense(inputs=outputs, units=1)"
   ]
  },
  {
   "cell_type": "code",
   "execution_count": 66,
   "metadata": {
    "colab": {
     "base_uri": "https://localhost:8080/",
     "height": 34
    },
    "colab_type": "code",
    "id": "n9w2mcHYAIIF",
    "outputId": "716f7f2b-9d64-4771-fc75-e68af48640b5"
   },
   "outputs": [
    {
     "data": {
      "text/plain": [
       "<tf.Tensor 'dense/BiasAdd:0' shape=(?, 1) dtype=float32>"
      ]
     },
     "execution_count": 66,
     "metadata": {
      "tags": []
     },
     "output_type": "execute_result"
    }
   ],
   "source": [
    "logits"
   ]
  },
  {
   "cell_type": "code",
   "execution_count": 67,
   "metadata": {
    "colab": {
     "base_uri": "https://localhost:8080/",
     "height": 34
    },
    "colab_type": "code",
    "id": "bC6EwGXpJmDr",
    "outputId": "140ea2df-6579-4576-9cbf-bc75b3ea48fa"
   },
   "outputs": [
    {
     "data": {
      "text/plain": [
       "<tf.Tensor 'Sigmoid:0' shape=(?, 1) dtype=float32>"
      ]
     },
     "execution_count": 67,
     "metadata": {
      "tags": []
     },
     "output_type": "execute_result"
    }
   ],
   "source": [
    "probs = tf.nn.sigmoid(logits)\n",
    "probs"
   ]
  },
  {
   "cell_type": "code",
   "execution_count": 0,
   "metadata": {
    "colab": {},
    "colab_type": "code",
    "id": "WrNxRc6hFKaC"
   },
   "outputs": [],
   "source": [
    "loss = tf.nn.sigmoid_cross_entropy_with_logits(\n",
    "    labels=tf.cast(labels, dtype=tf.float32),\n",
    "    logits=logits,\n",
    "    name='loss'\n",
    ")\n",
    "loss = tf.reduce_mean(loss)"
   ]
  },
  {
   "cell_type": "code",
   "execution_count": 69,
   "metadata": {
    "colab": {
     "base_uri": "https://localhost:8080/",
     "height": 34
    },
    "colab_type": "code",
    "id": "_iECRp-g4Gu4",
    "outputId": "435640da-ce8c-4985-edcf-7b00d9de04b9"
   },
   "outputs": [
    {
     "data": {
      "text/plain": [
       "<tf.Tensor 'Mean:0' shape=() dtype=float32>"
      ]
     },
     "execution_count": 69,
     "metadata": {
      "tags": []
     },
     "output_type": "execute_result"
    }
   ],
   "source": [
    "loss"
   ]
  },
  {
   "cell_type": "code",
   "execution_count": 0,
   "metadata": {
    "colab": {},
    "colab_type": "code",
    "id": "oT1X96sQ4Gu5"
   },
   "outputs": [],
   "source": [
    "train_op = tf.train.AdamOptimizer(learning_rate).minimize(loss)"
   ]
  },
  {
   "cell_type": "code",
   "execution_count": 0,
   "metadata": {
    "colab": {},
    "colab_type": "code",
    "id": "H4woY2c8E8ZI"
   },
   "outputs": [],
   "source": [
    "#sess.close()"
   ]
  },
  {
   "cell_type": "code",
   "execution_count": 72,
   "metadata": {
    "colab": {
     "base_uri": "https://localhost:8080/",
     "height": 204
    },
    "colab_type": "code",
    "id": "qovQgvIYJEiX",
    "outputId": "a71d79f0-f7b5-4e97-e0f5-f579ed7faf8a"
   },
   "outputs": [
    {
     "name": "stdout",
     "output_type": "stream",
     "text": [
      "Epoch  0\n",
      "Loss:  0.002365668018658956\n",
      "Loss:  0.5363485405842463\n",
      "Loss:  0.5025484961271286\n",
      "Loss:  0.4863923622171084\n",
      "Loss:  0.47722873618205386\n",
      "Loss:  0.4744500646988551\n",
      "Loss:  0.46267041703065237\n",
      "Loss:  0.4572047840555509\n",
      "Loss:  0.44844089378913243\n",
      "Loss:  0.4426309593518575\n"
     ]
    }
   ],
   "source": [
    "losses = []\n",
    "num_epochs = 1\n",
    "num_iter_per_epoch = 3000\n",
    "\n",
    "sess = tf.Session()\n",
    "sess.run(tf.global_variables_initializer())\n",
    "for i in range(num_epochs):\n",
    "  print('Epoch ',i)\n",
    "  aver_loss = 0.\n",
    "  for j in range(num_iter_per_epoch):\n",
    "    loss_cur, _ = sess.run([loss, train_op])\n",
    "    aver_loss += loss_cur\n",
    "    if j % 300 == 0:\n",
    "      print('Loss: ', aver_loss / 300.)\n",
    "      aver_loss = 0.\n",
    "      \n",
    "    losses.append(loss_cur)"
   ]
  },
  {
   "cell_type": "code",
   "execution_count": 73,
   "metadata": {
    "colab": {
     "base_uri": "https://localhost:8080/",
     "height": 282
    },
    "colab_type": "code",
    "id": "asaAQ2ITJU5m",
    "outputId": "2ce2656a-475b-40b1-8f0b-0332d6584ddf"
   },
   "outputs": [
    {
     "data": {
      "text/plain": [
       "[<matplotlib.lines.Line2D at 0x7fd07d251ba8>]"
      ]
     },
     "execution_count": 73,
     "metadata": {
      "tags": []
     },
     "output_type": "execute_result"
    },
    {
     "data": {
      "image/png": "[encoded data removed]",
      "text/plain": [
       "<matplotlib.figure.Figure at 0x7fd08029b668>"
      ]
     },
     "metadata": {
      "tags": []
     },
     "output_type": "display_data"
    }
   ],
   "source": [
    "plt.plot(losses)"
   ]
  },
  {
   "cell_type": "markdown",
   "metadata": {
    "colab_type": "text",
    "id": "71dyoLY-7ezf"
   },
   "source": [
    "**Измеряем точность**"
   ]
  },
  {
   "cell_type": "code",
   "execution_count": 0,
   "metadata": {
    "colab": {},
    "colab_type": "code",
    "id": "ToINNWQtJmD4"
   },
   "outputs": [],
   "source": [
    "test_seqs = tokenizer.texts_to_sequences(test.text)\n",
    "padded_test = pad_sequences(test_seqs, maxlen=20, dtype='int32', padding='post', truncating='pre', value=0.0)"
   ]
  },
  {
   "cell_type": "code",
   "execution_count": 0,
   "metadata": {
    "colab": {},
    "colab_type": "code",
    "id": "GDnqhSws8ro3"
   },
   "outputs": [],
   "source": [
    "test_pred = sess.run(probs, feed_dict={inputs: padded_test})"
   ]
  },
  {
   "cell_type": "code",
   "execution_count": 76,
   "metadata": {
    "colab": {
     "base_uri": "https://localhost:8080/",
     "height": 34
    },
    "colab_type": "code",
    "id": "rCtV-Pe0JmD8",
    "outputId": "d1371854-c8f6-42f7-a716-1b87e4b274de"
   },
   "outputs": [
    {
     "data": {
      "text/plain": [
       "0.8739057552616875"
      ]
     },
     "execution_count": 76,
     "metadata": {
      "tags": []
     },
     "output_type": "execute_result"
    }
   ],
   "source": [
    "roc_auc_score(y_test, test_pred)"
   ]
  },
  {
   "cell_type": "markdown",
   "metadata": {
    "colab_type": "text",
    "id": "TWiv3S0Oc9Tb"
   },
   "source": [
    "** Мы улучшили результат TF-IDF модели, но кажется, что можно куда лучше**"
   ]
  },
  {
   "cell_type": "markdown",
   "metadata": {
    "colab_type": "text",
    "id": "aUzok0OydIOz"
   },
   "source": [
    "# Задание"
   ]
  },
  {
   "cell_type": "markdown",
   "metadata": {
    "colab_type": "text",
    "id": "cOquml5SQLsN"
   },
   "source": [
    "Исследуйте нейронку и опишите свои наблюдения. Зафиксируйте количество итераций обучения и меняйте параметры сети. \n",
    "Можно выбрать для исследования **любые 3 ** из предложенных вопросов.\n",
    "\n",
    "1.   Как размер батча влияет на roc_auc?\n",
    "2.   Как размерность скрытого слоя LSTM влияет на roc_auc?\n",
    "3.   Что изменится, если вместо всех outputs LSTM взять только последние выходы LSTM на последнем шаге. Улучшился или ухудшился при этом roc_auc?\n",
    "4.   Что изменится, если взять char эмбеддинги заместо word? Провести эксперименты, добится roc_auc > 0.5. (Это может оказаться сложным, потому можно взять одну эту задачку вместо 3х)\n",
    "5.   Что изменится, если взять несколько слоев LSTM?\n",
    "6.   Что изменится, если взять bidirectional LSTM?\n",
    "7.   Что если обучать эмбеддинги вместе с обучением модели и не использовать инициализацию предобученными эмбеддингами? Сколько потребуется итераций обучения, чтобы достичь результата с использованием предобученных эмбеддингов?\n",
    "\n",
    "Опишите подробно что вы делали словами и что у вас вышло.\n",
    "Код тоже нужно оставить доступным для обозрения.\n",
    "\n",
    "Получилось ли у вас улучшить результат нейронки?\n",
    "\n",
    "# Ваш отчет здесь\n"
   ]
  },
  {
   "cell_type": "code",
   "execution_count": 0,
   "metadata": {
    "colab": {},
    "colab_type": "code",
    "id": "4F9KReTkbTed"
   },
   "outputs": [],
   "source": [
    "y_train = np.array(train.sentiment)\n",
    "y_train = np.expand_dims(y_train, axis=1)\n",
    "#X_train, X_val, y_train, y_val = train_test_split(padded, y_train, test_size=0.05, random_state=42)"
   ]
  },
  {
   "cell_type": "code",
   "execution_count": 0,
   "metadata": {
    "colab": {},
    "colab_type": "code",
    "id": "_KV_Xn0ZTGS-"
   },
   "outputs": [],
   "source": [
    "def runModel(batch_size=200, \n",
    "             LSTMCell_size=100, \n",
    "             use_last_output=False, \n",
    "             number_of_lstm_layers=1, \n",
    "             bidirectional=False):\n",
    "  tf.reset_default_graph()\n",
    "  emb_size = 100\n",
    "  BATCH_SIZE = batch_size\n",
    "  learning_rate = 0.001\n",
    "  EPOCHS = 1\n",
    "\n",
    "  dataset = tf.data.Dataset.from_tensor_slices((padded, y_train)).shuffle(BATCH_SIZE).repeat().batch(BATCH_SIZE)\n",
    "  iterator = dataset.make_one_shot_iterator()\n",
    "  get_next = iterator.get_next()\n",
    "  inputs, labels = get_next\n",
    "  embedding_mtx = tf.get_variable(name=\"embedding_mtx\",\n",
    "                                  shape=embedding_matrix.shape,\n",
    "                                  initializer=tf.constant_initializer(embedding_matrix),\n",
    "                                  trainable=False)\n",
    "  inputs_embedded = tf.nn.embedding_lookup(params=embedding_mtx, ids=inputs)\n",
    "  \n",
    "  if bidirectional:\n",
    "    lstm_fw_cell = tf.contrib.rnn.LSTMCell(LSTMCell_size)\n",
    "    lstm_bw_cell = tf.contrib.rnn.LSTMCell(LSTMCell_size)\n",
    "    outputs, (state_fw, state_bw) = tf.nn.bidirectional_dynamic_rnn(cell_fw=lstm_fw_cell, \n",
    "                                                      cell_bw=lstm_bw_cell, \n",
    "                                                      inputs=inputs_embedded, \n",
    "                                                      dtype=tf.float32)\n",
    "  else:\n",
    "    LTSM_Layer = tf.contrib.rnn.LSTMCell(LSTMCell_size)\n",
    "    cell = tf.contrib.rnn.MultiRNNCell([LTSM_Layer] * number_of_lstm_layers)\n",
    "    outputs, states = tf.nn.dynamic_rnn(cell=cell, inputs=inputs_embedded, dtype=tf.float32)\n",
    "  \n",
    "  if use_last_output:\n",
    "    outputs = outputs[:, -1, :]\n",
    "  else:\n",
    "    outputs = tf.concat(outputs, 2)\n",
    "    outputs = tf.layers.flatten(outputs)\n",
    "  \n",
    "  logits = tf.layers.dense(inputs=outputs, units=1)\n",
    "  probs = tf.nn.sigmoid(logits)\n",
    "  loss = tf.nn.sigmoid_cross_entropy_with_logits(\n",
    "      labels=tf.cast(labels, dtype=tf.float32),\n",
    "      logits=logits,\n",
    "      name='loss'\n",
    "  )\n",
    "  loss = tf.reduce_mean(loss)\n",
    "  train_op = tf.train.AdamOptimizer(learning_rate).minimize(loss)\n",
    "  losses = []\n",
    "  num_epochs = 1\n",
    "  num_iter_per_epoch = 3000\n",
    "\n",
    "  sess = tf.Session()\n",
    "  sess.run(tf.global_variables_initializer())\n",
    "  for i in range(num_epochs):\n",
    "    aver_loss = 0.\n",
    "    for j in range(1, num_iter_per_epoch+1):\n",
    "      loss_cur, _ = sess.run([loss, train_op])\n",
    "      aver_loss += loss_cur\n",
    "      if j % 1000 == 0:\n",
    "        print(f'Train loss on {j}: ', aver_loss / 1000.)\n",
    "        aver_loss = 0.\n",
    "      losses.append(loss_cur)\n",
    "  plt.plot(losses)\n",
    "  #val_pred = sess.run(probs, feed_dict={inputs: X_val})\n",
    "  test_seqs = tokenizer.texts_to_sequences(test.text)\n",
    "  padded_test = pad_sequences(test_seqs, maxlen=20, dtype='int32', padding='post', truncating='pre', value=0.0)\n",
    "  test_pred = sess.run(probs, feed_dict={inputs: padded_test})\n",
    "  #print(f'ROC_AUC val: {roc_auc_score(y_val, val_pred)}')\n",
    "  print(f'ROC_AUC test: {roc_auc_score(y_test, test_pred)}')\n",
    "  sess.close()"
   ]
  },
  {
   "cell_type": "markdown",
   "metadata": {
    "colab_type": "text",
    "id": "Fm23c2zKpS1X"
   },
   "source": [
    "## 1"
   ]
  },
  {
   "cell_type": "markdown",
   "metadata": {
    "colab_type": "text",
    "id": "62TnTtHYY1lS"
   },
   "source": [
    "Используя батчи размером 50, алгоритм показывает лучшее качество"
   ]
  },
  {
   "cell_type": "code",
   "execution_count": 79,
   "metadata": {
    "colab": {
     "base_uri": "https://localhost:8080/",
     "height": 775
    },
    "colab_type": "code",
    "id": "euZSB1DIgQZz",
    "outputId": "06f6e005-0b8d-43b1-ae9d-e7b5afd283f9"
   },
   "outputs": [
    {
     "name": "stdout",
     "output_type": "stream",
     "text": [
      "Batch size: 10\n",
      "Train loss on 1000:  0.5548649526536464\n",
      "Train loss on 2000:  0.519148217394948\n",
      "Train loss on 3000:  0.5117336673140526\n",
      "ROC_AUC test: 0.8857018687527162\n",
      "Batch size: 20\n",
      "Train loss on 1000:  0.5406885987818241\n",
      "Train loss on 2000:  0.5102411876767874\n",
      "Train loss on 3000:  0.5075809431523085\n",
      "ROC_AUC test: 0.8901409325138139\n",
      "Batch size: 50\n",
      "Train loss on 1000:  0.5252079110741615\n",
      "Train loss on 2000:  0.5024882786870003\n",
      "Train loss on 3000:  0.48029076370596885\n",
      "ROC_AUC test: 0.9003849258086547\n",
      "Batch size: 100\n",
      "Train loss on 1000:  0.5185293517410755\n",
      "Train loss on 2000:  0.4835790066719055\n",
      "Train loss on 3000:  0.46839989882707594\n",
      "ROC_AUC test: 0.8785000310424039\n",
      "Batch size: 200\n",
      "Train loss on 1000:  0.506482783794403\n",
      "Train loss on 2000:  0.4676561391353607\n",
      "Train loss on 3000:  0.44533308574557307\n",
      "ROC_AUC test: 0.8858260383684113\n",
      "Batch size: 500\n",
      "Train loss on 1000:  0.48931087511777877\n",
      "Train loss on 2000:  0.4386184783577919\n",
      "Train loss on 3000:  0.39570740765333173\n",
      "ROC_AUC test: 0.8603402247470043\n"
     ]
    },
    {
     "data": {
      "image/png": "[encoded data removed]",
      "text/plain": [
       "<matplotlib.figure.Figure at 0x7fd0768ab518>"
      ]
     },
     "metadata": {
      "tags": []
     },
     "output_type": "display_data"
    }
   ],
   "source": [
    "batch_sizes = [10,20,50,100,200,500]\n",
    "for bs in batch_sizes:\n",
    "  print(f'Batch size: {bs}')\n",
    "  runModel(bs)"
   ]
  },
  {
   "cell_type": "markdown",
   "metadata": {
    "colab_type": "text",
    "id": "e1IbjhevpXpb"
   },
   "source": [
    "## 2"
   ]
  },
  {
   "cell_type": "markdown",
   "metadata": {
    "colab_type": "text",
    "id": "CVYOGgA2ZB_7"
   },
   "source": [
    "Используя размерность скрытого слоя 50, алгоритм показывает лучшее качество"
   ]
  },
  {
   "cell_type": "code",
   "execution_count": 80,
   "metadata": {
    "colab": {
     "base_uri": "https://localhost:8080/",
     "height": 775
    },
    "colab_type": "code",
    "id": "eRuFTXlTgT7g",
    "outputId": "c9ebcf5a-2274-4f11-eb3c-c9870b35c414"
   },
   "outputs": [
    {
     "name": "stdout",
     "output_type": "stream",
     "text": [
      "LSTM_cell size: 10\n",
      "Train loss on 1000:  0.5234417287409305\n",
      "Train loss on 2000:  0.48608244705200193\n",
      "Train loss on 3000:  0.475881578207016\n",
      "ROC_AUC test: 0.8835599428819767\n",
      "LSTM_cell size: 20\n",
      "Train loss on 1000:  0.516969764471054\n",
      "Train loss on 2000:  0.4803007063865662\n",
      "Train loss on 3000:  0.468154933899641\n",
      "ROC_AUC test: 0.885205190289936\n",
      "LSTM_cell size: 50\n",
      "Train loss on 1000:  0.5084303601980209\n",
      "Train loss on 2000:  0.47137856236100195\n",
      "Train loss on 3000:  0.4552524669766426\n",
      "ROC_AUC test: 0.8933693425218849\n",
      "LSTM_cell size: 100\n",
      "Train loss on 1000:  0.5068925744593143\n",
      "Train loss on 2000:  0.46603741866350173\n",
      "Train loss on 3000:  0.44331345465779304\n",
      "ROC_AUC test: 0.8857018687527162\n",
      "LSTM_cell size: 200\n",
      "Train loss on 1000:  0.5057842743992805\n",
      "Train loss on 2000:  0.4639932785928249\n",
      "Train loss on 3000:  0.4290410912334919\n",
      "ROC_AUC test: 0.8590364437822066\n",
      "LSTM_cell size: 500\n",
      "Train loss on 1000:  0.5047365766465663\n",
      "Train loss on 2000:  0.4599453586935997\n",
      "Train loss on 3000:  0.4042231810092926\n",
      "ROC_AUC test: 0.8293599056310921\n"
     ]
    },
    {
     "data": {
      "image/png": "[encoded data removed]",
      "text/plain": [
       "<matplotlib.figure.Figure at 0x7fd070a0ae80>"
      ]
     },
     "metadata": {
      "tags": []
     },
     "output_type": "display_data"
    }
   ],
   "source": [
    "lstm_cell_sizes = [10,20,50,100,200,500]\n",
    "for ls in lstm_cell_sizes:\n",
    "  print(f'LSTM_cell size: {ls}')\n",
    "  runModel(200, ls)"
   ]
  },
  {
   "cell_type": "markdown",
   "metadata": {
    "colab_type": "text",
    "id": "ukiKkkxApZlj"
   },
   "source": [
    "## 3"
   ]
  },
  {
   "cell_type": "markdown",
   "metadata": {
    "colab_type": "text",
    "id": "iwQn6o5AZNnr"
   },
   "source": [
    "Используя только последний выход, алгоритм показывает лучшее качество, но не сильно лучше"
   ]
  },
  {
   "cell_type": "code",
   "execution_count": 81,
   "metadata": {
    "colab": {
     "base_uri": "https://localhost:8080/",
     "height": 350
    },
    "colab_type": "code",
    "id": "iqN2_i-Nkmz3",
    "outputId": "7f16a4ac-ef6c-41aa-e44c-2d995022de88"
   },
   "outputs": [
    {
     "name": "stdout",
     "output_type": "stream",
     "text": [
      "Using last output\n",
      "Train loss on 1000:  0.5091369857490062\n",
      "Train loss on 2000:  0.47138555493950846\n",
      "Train loss on 3000:  0.45304193678498267\n",
      "ROC_AUC test: 0.8725709318929658\n"
     ]
    },
    {
     "data": {
      "image/png": "[encoded data removed]",
      "text/plain": [
       "<matplotlib.figure.Figure at 0x7fd072f37390>"
      ]
     },
     "metadata": {
      "tags": []
     },
     "output_type": "display_data"
    }
   ],
   "source": [
    "print('Using last output')\n",
    "runModel(200, 100, True)"
   ]
  },
  {
   "cell_type": "markdown",
   "metadata": {
    "colab_type": "text",
    "id": "A05N2lrn3QKp"
   },
   "source": [
    "## 5"
   ]
  },
  {
   "cell_type": "markdown",
   "metadata": {
    "colab_type": "text",
    "id": "ElIti3_KZUoV"
   },
   "source": [
    "Используя 2 слоя LSTM, алгоритм показывает лучшее качество"
   ]
  },
  {
   "cell_type": "code",
   "execution_count": 82,
   "metadata": {
    "colab": {
     "base_uri": "https://localhost:8080/",
     "height": 452
    },
    "colab_type": "code",
    "id": "RSkWE1Vg3RF-",
    "outputId": "1a6169cf-edbf-434b-9586-0e387b83e11c"
   },
   "outputs": [
    {
     "name": "stdout",
     "output_type": "stream",
     "text": [
      "Number of layers: 2\n",
      "WARNING:tensorflow:At least two cells provided to MultiRNNCell are the same object and will share weights.\n",
      "Train loss on 1000:  0.5091857289671898\n",
      "Train loss on 2000:  0.470226188570261\n",
      "Train loss on 3000:  0.45038342812657356\n",
      "ROC_AUC test: 0.8807971689327623\n",
      "Number of layers: 3\n",
      "Train loss on 1000:  0.5109637332856655\n",
      "Train loss on 2000:  0.4726588720083237\n",
      "Train loss on 3000:  0.45355685997009276\n",
      "ROC_AUC test: 0.8777550133482338\n"
     ]
    },
    {
     "data": {
      "image/png": "[encoded data removed]",
      "text/plain": [
       "<matplotlib.figure.Figure at 0x7fd06f840048>"
      ]
     },
     "metadata": {
      "tags": []
     },
     "output_type": "display_data"
    }
   ],
   "source": [
    "layers = [2,3]\n",
    "for l in layers:\n",
    "  print(f'Number of layers: {l}')\n",
    "  runModel(200, 100, False, l)"
   ]
  },
  {
   "cell_type": "markdown",
   "metadata": {
    "colab_type": "text",
    "id": "blegyedtQQfX"
   },
   "source": [
    "## 6"
   ]
  },
  {
   "cell_type": "markdown",
   "metadata": {
    "colab_type": "text",
    "id": "2kJ79t7tZdae"
   },
   "source": [
    "Одностороняя LSTM показывает лучшее качество"
   ]
  },
  {
   "cell_type": "code",
   "execution_count": 83,
   "metadata": {
    "colab": {
     "base_uri": "https://localhost:8080/",
     "height": 435
    },
    "colab_type": "code",
    "id": "f_5e8m0k35C7",
    "outputId": "76c427a9-a35f-441a-af23-18b2a4170c24"
   },
   "outputs": [
    {
     "name": "stdout",
     "output_type": "stream",
     "text": [
      "Bidirectional\n",
      "Train loss on 1000:  0.505086039096117\n",
      "Train loss on 2000:  0.4619671802818775\n",
      "Train loss on 3000:  0.4266072869300842\n",
      "ROC_AUC test: 0.8729744831439747\n",
      "Unidirectional\n",
      "Train loss on 1000:  0.5060909924209118\n",
      "Train loss on 2000:  0.46701347905397417\n",
      "Train loss on 3000:  0.44417590215802194\n",
      "ROC_AUC test: 0.8760166387285031\n"
     ]
    },
    {
     "data": {
      "image/png": "[encoded data removed]",
      "text/plain": [
       "<matplotlib.figure.Figure at 0x7fd06da80358>"
      ]
     },
     "metadata": {
      "tags": []
     },
     "output_type": "display_data"
    }
   ],
   "source": [
    "print('Bidirectional')\n",
    "runModel(batch_size=200, \n",
    "         LSTMCell_size=100, \n",
    "         use_last_output=False, \n",
    "         number_of_lstm_layers=1, \n",
    "         bidirectional=True)\n",
    "print('Unidirectional')\n",
    "runModel(batch_size=200, \n",
    "         LSTMCell_size=100, \n",
    "         use_last_output=False, \n",
    "         number_of_lstm_layers=1, \n",
    "         bidirectional=False)"
   ]
  },
  {
   "cell_type": "markdown",
   "metadata": {
    "colab_type": "text",
    "id": "X3okw3JQZo0r"
   },
   "source": [
    "Построим модель с оптимальными параметрами"
   ]
  },
  {
   "cell_type": "code",
   "execution_count": 85,
   "metadata": {
    "colab": {
     "base_uri": "https://localhost:8080/",
     "height": 350
    },
    "colab_type": "code",
    "id": "Pvnr6SCnT2j1",
    "outputId": "42ff2fd9-1c39-4ae3-e5b0-38825da766c7"
   },
   "outputs": [
    {
     "name": "stdout",
     "output_type": "stream",
     "text": [
      "Best\n",
      "Train loss on 1000:  0.5300684834718704\n",
      "Train loss on 2000:  0.5046433309316635\n",
      "Train loss on 3000:  0.48417410442233083\n",
      "ROC_AUC test: 0.9055379648599988\n"
     ]
    },
    {
     "data": {
      "image/png": "[encoded data removed]",
      "text/plain": [
       "<matplotlib.figure.Figure at 0x7fd06d5d4eb8>"
      ]
     },
     "metadata": {
      "tags": []
     },
     "output_type": "display_data"
    }
   ],
   "source": [
    "print('Best')\n",
    "runModel(batch_size=50, \n",
    "         LSTMCell_size=100, \n",
    "         use_last_output=True, \n",
    "         number_of_lstm_layers=2)"
   ]
  },
  {
   "cell_type": "code",
   "execution_count": 0,
   "metadata": {
    "colab": {},
    "colab_type": "code",
    "id": "bJm0CSEEqUFV"
   },
   "outputs": [],
   "source": []
  }
 ],
 "metadata": {
  "accelerator": "GPU",
  "colab": {
   "name": "hw-3.ipynb",
   "provenance": [],
   "toc_visible": true,
   "version": "0.3.2"
  },
  "kernelspec": {
   "display_name": "Python 3",
   "language": "python",
   "name": "python3"
  },
  "language_info": {
   "codemirror_mode": {
    "name": "ipython",
    "version": 3
   },
   "file_extension": ".py",
   "mimetype": "text/x-python",
   "name": "python",
   "nbconvert_exporter": "python",
   "pygments_lexer": "ipython3",
   "version": "3.6.3"
  }
 },
 "nbformat": 4,
 "nbformat_minor": 1
}
