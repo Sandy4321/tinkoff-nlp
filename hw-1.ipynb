{
 "cells": [
  {
   "cell_type": "code",
   "execution_count": 1,
   "metadata": {},
   "outputs": [],
   "source": [
    "import re\n",
    "import time\n",
    "from collections import Counter\n",
    "import itertools\n",
    "import matplotlib.pyplot as plt\n",
    "import numpy as np\n",
    "\n",
    "from sklearn.datasets import fetch_20newsgroups\n",
    "from sklearn.model_selection import train_test_split\n",
    "from sklearn.feature_extraction.text import CountVectorizer, TfidfVectorizer\n",
    "from sklearn.linear_model import SGDClassifier\n",
    "from sklearn import metrics\n",
    "\n",
    "from nltk.stem.snowball import SnowballStemmer\n",
    "from nltk import wordnet, pos_tag, WordNetLemmatizer\n",
    "from nltk.corpus import stopwords\n",
    "\n",
    "import warnings\n",
    "warnings.simplefilter(action='ignore', category=FutureWarning)"
   ]
  },
  {
   "cell_type": "markdown",
   "metadata": {},
   "source": [
    "# 1"
   ]
  },
  {
   "cell_type": "markdown",
   "metadata": {},
   "source": [
    "Загрузим датасет 20newsgroups при помощи метода sklearn.datasets.fetch_20newsgroups. Уберем все заголовки, подписи и цитаты."
   ]
  },
  {
   "cell_type": "code",
   "execution_count": 2,
   "metadata": {},
   "outputs": [],
   "source": [
    "twenty = fetch_20newsgroups(subset='all', shuffle=True, random_state=42, remove=('headers', 'footers', 'quotes'))"
   ]
  },
  {
   "cell_type": "markdown",
   "metadata": {},
   "source": [
    "Переведем во всех документах все буквы в нижний регистр. Заменим во всех документах символы, не являющиеся буквами и цифрами, на пробелы."
   ]
  },
  {
   "cell_type": "code",
   "execution_count": 3,
   "metadata": {},
   "outputs": [],
   "source": [
    "expr = r'[^a-zA-Z0-9]'\n",
    "parser=re.compile(expr)\n",
    "\n",
    "def preprocess(sent):\n",
    "    res = parser.sub(r' ', sent).lower()\n",
    "    return res"
   ]
  },
  {
   "cell_type": "code",
   "execution_count": 4,
   "metadata": {},
   "outputs": [],
   "source": [
    "new_data = list(map(preprocess, twenty.data))"
   ]
  },
  {
   "cell_type": "markdown",
   "metadata": {},
   "source": [
    "# 2"
   ]
  },
  {
   "cell_type": "markdown",
   "metadata": {},
   "source": [
    "Разделим датасет на обучающую, валидационную и тестовую выборки."
   ]
  },
  {
   "cell_type": "code",
   "execution_count": 5,
   "metadata": {},
   "outputs": [],
   "source": [
    "X_train, X_test, y_train, y_test = train_test_split(new_data, twenty.target, test_size=0.2, random_state=1)\n",
    "X_train, X_val, y_train, y_val = train_test_split(X_train, y_train, test_size=0.2, random_state=1)"
   ]
  },
  {
   "cell_type": "markdown",
   "metadata": {},
   "source": [
    "Преобразуем датасет с помощью CountVectorizer и TfidfVectorizer."
   ]
  },
  {
   "cell_type": "code",
   "execution_count": 6,
   "metadata": {},
   "outputs": [],
   "source": [
    "count_vect = CountVectorizer()\n",
    "X_train_counts = count_vect.fit_transform(X_train)\n",
    "X_val_counts = count_vect.transform(X_val)\n",
    "X_test_counts = count_vect.transform(X_test)"
   ]
  },
  {
   "cell_type": "code",
   "execution_count": 7,
   "metadata": {},
   "outputs": [],
   "source": [
    "idf_vectorizer = TfidfVectorizer()\n",
    "X_train_idf = idf_vectorizer.fit_transform(X_train)\n",
    "X_val_idf = idf_vectorizer.transform(X_val)\n",
    "X_test_idf = idf_vectorizer.transform(X_test)"
   ]
  },
  {
   "cell_type": "markdown",
   "metadata": {},
   "source": [
    "Сравним преобразования по качеству классификации при помощи SVM на валидационной выборке. "
   ]
  },
  {
   "cell_type": "code",
   "execution_count": 8,
   "metadata": {},
   "outputs": [],
   "source": [
    "svm_counts = SGDClassifier()\n",
    "svm_counts.fit(X_train_counts, y_train)\n",
    "predicted_counts = svm_counts.predict(X_val_counts)"
   ]
  },
  {
   "cell_type": "code",
   "execution_count": 9,
   "metadata": {},
   "outputs": [
    {
     "name": "stdout",
     "output_type": "stream",
     "text": [
      "                          precision    recall  f1-score   support\n",
      "\n",
      "             alt.atheism       0.49      0.38      0.43       130\n",
      "           comp.graphics       0.63      0.51      0.57       157\n",
      " comp.os.ms-windows.misc       0.58      0.50      0.54       152\n",
      "comp.sys.ibm.pc.hardware       0.25      0.30      0.28       135\n",
      "   comp.sys.mac.hardware       0.21      0.79      0.34       160\n",
      "          comp.windows.x       0.81      0.66      0.73       169\n",
      "            misc.forsale       0.78      0.72      0.75       162\n",
      "               rec.autos       0.66      0.58      0.62       152\n",
      "         rec.motorcycles       0.47      0.49      0.48       165\n",
      "      rec.sport.baseball       0.74      0.70      0.72       162\n",
      "        rec.sport.hockey       0.80      0.73      0.76       137\n",
      "               sci.crypt       0.82      0.66      0.73       161\n",
      "         sci.electronics       0.84      0.39      0.53       160\n",
      "                 sci.med       0.90      0.35      0.51       173\n",
      "               sci.space       0.65      0.60      0.62       157\n",
      "  soc.religion.christian       0.56      0.78      0.65       159\n",
      "      talk.politics.guns       0.64      0.51      0.57       140\n",
      "   talk.politics.mideast       0.88      0.70      0.78       151\n",
      "      talk.politics.misc       0.39      0.31      0.35       132\n",
      "      talk.religion.misc       0.42      0.22      0.29       102\n",
      "\n",
      "             avg / total       0.64      0.55      0.57      3016\n",
      "\n"
     ]
    }
   ],
   "source": [
    "print(metrics.classification_report(y_val, predicted_counts,\n",
    "                                    target_names=twenty.target_names))"
   ]
  },
  {
   "cell_type": "code",
   "execution_count": 10,
   "metadata": {},
   "outputs": [],
   "source": [
    "svm_idf = SGDClassifier()\n",
    "svm_idf.fit(X_train_idf, y_train)\n",
    "predicted_idf = svm_idf.predict(X_val_idf)"
   ]
  },
  {
   "cell_type": "code",
   "execution_count": 11,
   "metadata": {},
   "outputs": [
    {
     "name": "stdout",
     "output_type": "stream",
     "text": [
      "                          precision    recall  f1-score   support\n",
      "\n",
      "             alt.atheism       0.74      0.57      0.64       130\n",
      "           comp.graphics       0.71      0.70      0.71       157\n",
      " comp.os.ms-windows.misc       0.70      0.69      0.70       152\n",
      "comp.sys.ibm.pc.hardware       0.69      0.70      0.70       135\n",
      "   comp.sys.mac.hardware       0.84      0.81      0.83       160\n",
      "          comp.windows.x       0.81      0.81      0.81       169\n",
      "            misc.forsale       0.76      0.79      0.78       162\n",
      "               rec.autos       0.75      0.74      0.75       152\n",
      "         rec.motorcycles       0.82      0.76      0.79       165\n",
      "      rec.sport.baseball       0.78      0.86      0.82       162\n",
      "        rec.sport.hockey       0.56      0.93      0.70       137\n",
      "               sci.crypt       0.88      0.80      0.83       161\n",
      "         sci.electronics       0.70      0.75      0.73       160\n",
      "                 sci.med       0.82      0.85      0.84       173\n",
      "               sci.space       0.84      0.75      0.79       157\n",
      "  soc.religion.christian       0.68      0.84      0.75       159\n",
      "      talk.politics.guns       0.75      0.78      0.76       140\n",
      "   talk.politics.mideast       0.79      0.86      0.83       151\n",
      "      talk.politics.misc       0.73      0.48      0.58       132\n",
      "      talk.religion.misc       0.71      0.29      0.42       102\n",
      "\n",
      "             avg / total       0.76      0.75      0.75      3016\n",
      "\n"
     ]
    }
   ],
   "source": [
    "print(metrics.classification_report(y_val, predicted_idf,\n",
    "                                    target_names=twenty.target_names))"
   ]
  },
  {
   "cell_type": "markdown",
   "metadata": {},
   "source": [
    "TF-IDF показал лучше качество"
   ]
  },
  {
   "cell_type": "markdown",
   "metadata": {},
   "source": [
    "Лучший алгоритм применить к тестовой выборке. "
   ]
  },
  {
   "cell_type": "code",
   "execution_count": 12,
   "metadata": {},
   "outputs": [],
   "source": [
    "predicted_test_idf = svm_idf.predict(X_test_idf)"
   ]
  },
  {
   "cell_type": "code",
   "execution_count": 13,
   "metadata": {},
   "outputs": [
    {
     "name": "stdout",
     "output_type": "stream",
     "text": [
      "                          precision    recall  f1-score   support\n",
      "\n",
      "             alt.atheism       0.73      0.63      0.68       161\n",
      "           comp.graphics       0.75      0.72      0.73       193\n",
      " comp.os.ms-windows.misc       0.70      0.75      0.72       205\n",
      "comp.sys.ibm.pc.hardware       0.75      0.70      0.73       213\n",
      "   comp.sys.mac.hardware       0.79      0.72      0.76       189\n",
      "          comp.windows.x       0.81      0.82      0.82       188\n",
      "            misc.forsale       0.84      0.81      0.82       201\n",
      "               rec.autos       0.76      0.79      0.77       202\n",
      "         rec.motorcycles       0.84      0.78      0.81       203\n",
      "      rec.sport.baseball       0.78      0.85      0.81       185\n",
      "        rec.sport.hockey       0.63      0.89      0.74       218\n",
      "               sci.crypt       0.84      0.75      0.80       207\n",
      "         sci.electronics       0.69      0.65      0.67       181\n",
      "                 sci.med       0.79      0.89      0.84       195\n",
      "               sci.space       0.83      0.81      0.82       204\n",
      "  soc.religion.christian       0.72      0.81      0.76       208\n",
      "      talk.politics.guns       0.72      0.74      0.73       185\n",
      "   talk.politics.mideast       0.81      0.88      0.84       186\n",
      "      talk.politics.misc       0.66      0.59      0.62       147\n",
      "      talk.religion.misc       0.67      0.24      0.36        99\n",
      "\n",
      "             avg / total       0.76      0.76      0.75      3770\n",
      "\n"
     ]
    }
   ],
   "source": [
    "print(metrics.classification_report(y_test, predicted_test_idf,\n",
    "                                    target_names=twenty.target_names))"
   ]
  },
  {
   "cell_type": "markdown",
   "metadata": {},
   "source": [
    "Приведем примеры из тестовой выборки, на которых алгоритм ошибается. "
   ]
  },
  {
   "cell_type": "code",
   "execution_count": 14,
   "metadata": {},
   "outputs": [
    {
     "name": "stdout",
     "output_type": "stream",
     "text": [
      "hi there   i think it is time to create a ms dos 6 0  faq since lots of questions about it are actually flooding the net   i won t be able to write it my self because of the lack of time knowledge experience  \n",
      "Predicted: sci.med\n",
      "True: comp.sys.ibm.pc.hardware\n",
      " i heard the same thing  but without confirmation that he actually said it  it was just as alarming to us as to you  the bible says that nobody knows when the second coming will take place  \n",
      "Predicted: talk.religion.misc\n",
      "True: soc.religion.christian\n",
      "    as opposed to universal or catholic or  foursquare gosple   i think that    the greek orthodox church would take high offense at your misuse of the    word  your version of christianity is neither mainstream nor bible derived    you make claims of bible centricity that are not derivable soley from the    bible   about six seven months ago  you claimed that your primary objection    to the lds was that  our  doctrine was not bible derived  and now this     and other  claims can be shown  are also not bible interpeting bible       simple truths    oh for example                paradise exalted to heaven    paradise wasn t equal to heaven and  now  it is  yet you claim that   peeple can not be exalted to heaven  nicht wahr     when i read the story  i found that   abraham s bosom  wasn t so much  a place  but somewhere the rich man could see and talk to abraham    gee this is fairly close to what the lds call spirit prison  and what         you have called false doctrine           vers deleted reproduced below quoted from the sunspot gopher archive          this part is  not  supported from scripture  nor does it support your    claim that the  paradise  where christ descended was exalted      making such claims on this little  evidence  ignores the witness of the    scripture     using this to argue that paradise or spirit prison  is now changed from    a pre easter postion to post easter by god postion is not supportable       makeing such a claim requires more evidence than you have given here          yes  and your reasons are in general not supported by any direct reading   of the scriptures  you have demonstrated that you claims to scriptural     proof  need to be cross checked  the referencs that you supply often do   not support your postion  if they are read in the context of the scripture      how about that those who have been in paradise  and have accepted  the gosple will be judged of jesus christ  and then return to the  presence of god  is that somehow different from your expressed view  that the paradise spoken of  or  abraham s bosom    should we go back and discuss your view on why the angle of the lord  is the lord again          \n",
      "Predicted: soc.religion.christian\n",
      "True: talk.religion.misc\n"
     ]
    }
   ],
   "source": [
    "indices = np.where(predicted_test_idf != y_test)[0]\n",
    "for i in range(3,6):\n",
    "    print(X_test[indices[i]])\n",
    "    print(f\"Predicted: {twenty.target_names[predicted_test_idf[indices[i]]]}\")\n",
    "    print(f\"True: {twenty.target_names[y_test[indices[i]]]}\")"
   ]
  },
  {
   "cell_type": "markdown",
   "metadata": {},
   "source": [
    "> (после перезапуска примеры перемешались) В первой паре предсказания-ответа совпали категория comp, по сообщению сложно сказать даже человеку что пользователь ищет видеокарту.\n",
    "Во второй классы абсолютно различны, видимо по слову encounter svm подумала о столкновениях на дороге и классифицировала в сообщение в мотоциклы.\n",
    "В третьей совпали подкатегория religion, по сообщению сложно понять к какому классу из 2 оно относится."
   ]
  },
  {
   "cell_type": "markdown",
   "metadata": {},
   "source": [
    "Выведем матрицу ошибок (confusion matrix)."
   ]
  },
  {
   "cell_type": "code",
   "execution_count": 15,
   "metadata": {},
   "outputs": [],
   "source": [
    "def plot_confusion_matrix(cm, classes,\n",
    "                          normalize=False,\n",
    "                          title='Confusion matrix',\n",
    "                          cmap=plt.cm.Blues):\n",
    "    \"\"\"\n",
    "    This function prints and plots the confusion matrix.\n",
    "    Normalization can be applied by setting `normalize=True`.\n",
    "    \"\"\"\n",
    "    if normalize:\n",
    "        cm = cm.astype('float') / cm.sum(axis=1)[:, np.newaxis]\n",
    "        print(\"Normalized confusion matrix\")\n",
    "    else:\n",
    "        print('Confusion matrix, without normalization')\n",
    "\n",
    "    plt.imshow(cm, interpolation='nearest', cmap=cmap)\n",
    "    plt.title(title)\n",
    "    plt.colorbar()\n",
    "    tick_marks = np.arange(len(classes))\n",
    "    plt.xticks(tick_marks, classes, rotation=45)\n",
    "    plt.yticks(tick_marks, classes)\n",
    "\n",
    "    fmt = '.2f' if normalize else 'd'\n",
    "    thresh = cm.max() / 2.\n",
    "    for i, j in itertools.product(range(cm.shape[0]), range(cm.shape[1])):\n",
    "        plt.text(j, i, format(cm[i, j], fmt),\n",
    "                 horizontalalignment=\"center\",\n",
    "                 color=\"white\" if cm[i, j] > thresh else \"black\")\n",
    "\n",
    "    plt.tight_layout()\n",
    "    plt.ylabel('True label')\n",
    "    plt.xlabel('Predicted label')\n",
    "\n",
    "np.set_printoptions(precision=2)"
   ]
  },
  {
   "cell_type": "code",
   "execution_count": 16,
   "metadata": {},
   "outputs": [
    {
     "name": "stdout",
     "output_type": "stream",
     "text": [
      "Confusion matrix, without normalization\n"
     ]
    },
    {
     "data": {
      "text/plain": [
       "<Figure size 432x288 with 0 Axes>"
      ]
     },
     "metadata": {},
     "output_type": "display_data"
    },
    {
     "data": {
      "image/png": "[encoded data removed]",
      "text/plain": [
       "<Figure size 1152x864 with 2 Axes>"
      ]
     },
     "metadata": {
      "needs_background": "light"
     },
     "output_type": "display_data"
    }
   ],
   "source": [
    "cnf_matrix = metrics.confusion_matrix(y_test, predicted_test_idf)\n",
    "plt.figure()\n",
    "f, ax = plt.subplots(figsize=(16, 12))\n",
    "plot_confusion_matrix(cnf_matrix, classes=twenty.target_names,\n",
    "                      title='Confusion matrix, without normalization')\n",
    "\n",
    "plt.show()"
   ]
  },
  {
   "cell_type": "markdown",
   "metadata": {},
   "source": [
    "> Большинство(~75%) объектов мы правильно классифицировали. Большая часть ошибочных предсказаний связана с похожими классами. Например, talk.religion.misc и soc.religion.christian, talk.politics.misc и talk.politics.guns, подкатегории comp."
   ]
  },
  {
   "cell_type": "markdown",
   "metadata": {},
   "source": [
    "# 3"
   ]
  },
  {
   "cell_type": "markdown",
   "metadata": {},
   "source": [
    "Применим алгоритмы стемминга и лемматизации на датасете 20newsgroups."
   ]
  },
  {
   "cell_type": "code",
   "execution_count": 17,
   "metadata": {},
   "outputs": [],
   "source": [
    "stemmer = SnowballStemmer(language='english')\n",
    "def stem(sent):\n",
    "    return ' '.join([stemmer.stem(word) for word in sent.split()])"
   ]
  },
  {
   "cell_type": "code",
   "execution_count": 18,
   "metadata": {},
   "outputs": [
    {
     "name": "stdout",
     "output_type": "stream",
     "text": [
      "CPU times: user 43 s, sys: 53.3 ms, total: 43.1 s\n",
      "Wall time: 43.1 s\n"
     ]
    }
   ],
   "source": [
    "%%time\n",
    "data_stem = list(map(stem, new_data))"
   ]
  },
  {
   "cell_type": "code",
   "execution_count": 19,
   "metadata": {},
   "outputs": [
    {
     "data": {
      "text/plain": [
       "'i am sure some basher of pen fan are pretti confus about the lack of ani kind of post about the recent pen massacr of the devil actual i am bit puzzl too and a bit reliev howev i am go to put an end to non pittsburgh relief with a bit of prais for the pen man they are kill those devil wors than i thought jagr just show you whi he is much better than his regular season stat he is also a lot fo fun to watch in the playoff bowman should let jagr have a lot of fun in the next coupl of game sinc the pen are go to beat the pulp out of jersey anyway i was veri disappoint not to see the island lose the final regular season game pen rule'"
      ]
     },
     "execution_count": 19,
     "metadata": {},
     "output_type": "execute_result"
    }
   ],
   "source": [
    "data_stem[0]"
   ]
  },
  {
   "cell_type": "code",
   "execution_count": 20,
   "metadata": {},
   "outputs": [],
   "source": [
    "def get_wordnet_pos(treebank_tag):\n",
    "    my_switch = {\n",
    "        'J': wordnet.wordnet.ADJ,\n",
    "        'V': wordnet.wordnet.VERB,\n",
    "        'N': wordnet.wordnet.NOUN,\n",
    "        'R': wordnet.wordnet.ADV,\n",
    "    }\n",
    "    for key, item in my_switch.items():\n",
    "        if treebank_tag.startswith(key):\n",
    "            return item\n",
    "    return wordnet.wordnet.NOUN"
   ]
  },
  {
   "cell_type": "code",
   "execution_count": 21,
   "metadata": {},
   "outputs": [],
   "source": [
    "lemmatizer = WordNetLemmatizer()\n",
    "def my_lemmatizer(sent):\n",
    "    tokenized_sent = sent.split()\n",
    "    pos_tagged = [(word, get_wordnet_pos(tag))\n",
    "                 for word, tag in pos_tag(tokenized_sent)]\n",
    "    return ' '.join([lemmatizer.lemmatize(word, tag)\n",
    "                    for word, tag in pos_tagged])"
   ]
  },
  {
   "cell_type": "code",
   "execution_count": 22,
   "metadata": {},
   "outputs": [
    {
     "name": "stdout",
     "output_type": "stream",
     "text": [
      "CPU times: user 3min 1s, sys: 442 ms, total: 3min 1s\n",
      "Wall time: 3min 1s\n"
     ]
    }
   ],
   "source": [
    "%%time\n",
    "data_lemm = list(map(my_lemmatizer, new_data))"
   ]
  },
  {
   "cell_type": "code",
   "execution_count": 23,
   "metadata": {},
   "outputs": [
    {
     "data": {
      "text/plain": [
       "'i be sure some bashers of pen fan be pretty confuse about the lack of any kind of post about the recent pen massacre of the devil actually i be bit puzzled too and a bit relieved however i be go to put an end to non pittsburghers relief with a bit of praise for the pen man they be kill those devil bad than i think jagr just show you why he be much good than his regular season stats he be also a lot fo fun to watch in the playoff bowman should let jagr have a lot of fun in the next couple of game since the pen be go to beat the pulp out of jersey anyway i be very disappointed not to see the islander lose the final regular season game pen rule'"
      ]
     },
     "execution_count": 23,
     "metadata": {},
     "output_type": "execute_result"
    }
   ],
   "source": [
    "data_lemm[0]"
   ]
  },
  {
   "cell_type": "code",
   "execution_count": 24,
   "metadata": {},
   "outputs": [],
   "source": [
    "def runIdf(data):\n",
    "    X_train, X_test, y_train, y_test = train_test_split(data, twenty.target, test_size=0.2, random_state=1)\n",
    "    X_train, X_val, y_train, y_val = train_test_split(X_train, y_train, test_size=0.2, random_state=1)\n",
    "    \n",
    "    idf_vectorizer = TfidfVectorizer()\n",
    "    X_train_idf = idf_vectorizer.fit_transform(X_train)\n",
    "    X_val_idf = idf_vectorizer.transform(X_val)\n",
    "    X_test_idf = idf_vectorizer.transform(X_test)\n",
    "    \n",
    "    svm_idf = SGDClassifier()\n",
    "    svm_idf.fit(X_train_idf, y_train)\n",
    "    predicted_idf = svm_idf.predict(X_val_idf)\n",
    "    \n",
    "    print(metrics.classification_report(y_val, predicted_idf,\n",
    "                                    target_names=twenty.target_names))\n",
    "    print(f\"Vocabulary size: {len(idf_vectorizer.vocabulary_)}\")"
   ]
  },
  {
   "cell_type": "code",
   "execution_count": 25,
   "metadata": {},
   "outputs": [
    {
     "name": "stdout",
     "output_type": "stream",
     "text": [
      "                          precision    recall  f1-score   support\n",
      "\n",
      "             alt.atheism       0.67      0.52      0.59       130\n",
      "           comp.graphics       0.75      0.75      0.75       157\n",
      " comp.os.ms-windows.misc       0.71      0.70      0.71       152\n",
      "comp.sys.ibm.pc.hardware       0.70      0.70      0.70       135\n",
      "   comp.sys.mac.hardware       0.84      0.78      0.81       160\n",
      "          comp.windows.x       0.80      0.83      0.82       169\n",
      "            misc.forsale       0.78      0.79      0.79       162\n",
      "               rec.autos       0.75      0.75      0.75       152\n",
      "         rec.motorcycles       0.53      0.81      0.64       165\n",
      "      rec.sport.baseball       0.84      0.86      0.85       162\n",
      "        rec.sport.hockey       0.88      0.93      0.91       137\n",
      "               sci.crypt       0.85      0.80      0.82       161\n",
      "         sci.electronics       0.67      0.71      0.69       160\n",
      "                 sci.med       0.85      0.83      0.84       173\n",
      "               sci.space       0.81      0.76      0.78       157\n",
      "  soc.religion.christian       0.68      0.86      0.76       159\n",
      "      talk.politics.guns       0.75      0.76      0.75       140\n",
      "   talk.politics.mideast       0.80      0.81      0.81       151\n",
      "      talk.politics.misc       0.75      0.48      0.58       132\n",
      "      talk.religion.misc       0.62      0.32      0.43       102\n",
      "\n",
      "             avg / total       0.75      0.75      0.75      3016\n",
      "\n",
      "Vocabulary size: 89141\n",
      "CPU times: user 3.01 s, sys: 62.3 ms, total: 3.07 s\n",
      "Wall time: 3.07 s\n"
     ]
    }
   ],
   "source": [
    "%%time\n",
    "runIdf(data_stem)"
   ]
  },
  {
   "cell_type": "code",
   "execution_count": 26,
   "metadata": {},
   "outputs": [
    {
     "name": "stdout",
     "output_type": "stream",
     "text": [
      "                          precision    recall  f1-score   support\n",
      "\n",
      "             alt.atheism       0.68      0.56      0.62       130\n",
      "           comp.graphics       0.79      0.70      0.74       157\n",
      " comp.os.ms-windows.misc       0.74      0.68      0.71       152\n",
      "comp.sys.ibm.pc.hardware       0.68      0.71      0.69       135\n",
      "   comp.sys.mac.hardware       0.84      0.79      0.81       160\n",
      "          comp.windows.x       0.82      0.85      0.83       169\n",
      "            misc.forsale       0.80      0.78      0.79       162\n",
      "               rec.autos       0.78      0.74      0.76       152\n",
      "         rec.motorcycles       0.53      0.80      0.64       165\n",
      "      rec.sport.baseball       0.82      0.86      0.84       162\n",
      "        rec.sport.hockey       0.86      0.93      0.90       137\n",
      "               sci.crypt       0.85      0.76      0.80       161\n",
      "         sci.electronics       0.65      0.73      0.69       160\n",
      "                 sci.med       0.78      0.87      0.82       173\n",
      "               sci.space       0.83      0.72      0.77       157\n",
      "  soc.religion.christian       0.67      0.84      0.75       159\n",
      "      talk.politics.guns       0.74      0.78      0.76       140\n",
      "   talk.politics.mideast       0.88      0.81      0.85       151\n",
      "      talk.politics.misc       0.66      0.52      0.58       132\n",
      "      talk.religion.misc       0.65      0.33      0.44       102\n",
      "\n",
      "             avg / total       0.76      0.75      0.75      3016\n",
      "\n",
      "Vocabulary size: 98816\n",
      "CPU times: user 3.04 s, sys: 56.5 ms, total: 3.09 s\n",
      "Wall time: 3.09 s\n"
     ]
    }
   ],
   "source": [
    "%%time\n",
    "runIdf(data_lemm)"
   ]
  },
  {
   "cell_type": "code",
   "execution_count": 27,
   "metadata": {},
   "outputs": [
    {
     "name": "stdout",
     "output_type": "stream",
     "text": [
      "                          precision    recall  f1-score   support\n",
      "\n",
      "             alt.atheism       0.68      0.55      0.61       130\n",
      "           comp.graphics       0.75      0.66      0.70       157\n",
      " comp.os.ms-windows.misc       0.71      0.70      0.71       152\n",
      "comp.sys.ibm.pc.hardware       0.70      0.70      0.70       135\n",
      "   comp.sys.mac.hardware       0.80      0.81      0.80       160\n",
      "          comp.windows.x       0.82      0.81      0.81       169\n",
      "            misc.forsale       0.76      0.80      0.78       162\n",
      "               rec.autos       0.78      0.71      0.74       152\n",
      "         rec.motorcycles       0.80      0.80      0.80       165\n",
      "      rec.sport.baseball       0.79      0.87      0.83       162\n",
      "        rec.sport.hockey       0.57      0.93      0.71       137\n",
      "               sci.crypt       0.88      0.79      0.83       161\n",
      "         sci.electronics       0.71      0.72      0.72       160\n",
      "                 sci.med       0.86      0.83      0.85       173\n",
      "               sci.space       0.81      0.75      0.78       157\n",
      "  soc.religion.christian       0.64      0.86      0.73       159\n",
      "      talk.politics.guns       0.71      0.79      0.75       140\n",
      "   talk.politics.mideast       0.83      0.85      0.84       151\n",
      "      talk.politics.misc       0.67      0.52      0.59       132\n",
      "      talk.religion.misc       0.74      0.30      0.43       102\n",
      "\n",
      "             avg / total       0.76      0.75      0.74      3016\n",
      "\n",
      "Vocabulary size: 106955\n",
      "CPU times: user 3.27 s, sys: 59.2 ms, total: 3.32 s\n",
      "Wall time: 3.32 s\n"
     ]
    }
   ],
   "source": [
    "%%time\n",
    "# original data without stemming and lemmatization\n",
    "runIdf(new_data)"
   ]
  },
  {
   "cell_type": "markdown",
   "metadata": {},
   "source": [
    "> Точность(precision) не изменилась в среднем, однако изменилась для отдельных категорий, talk.politics.misc, например. Время работы алгоритма немного меньше после нормализации. Размер признакового пространства сильно уменьшился после нормализации: после стемминга на ~20к, после лемматизации на ~10к. На то чтобы провести стемминг потребовалось 45сек, на лемматизацию 3мин 16сек."
   ]
  },
  {
   "cell_type": "markdown",
   "metadata": {},
   "source": [
    "# 4"
   ]
  },
  {
   "cell_type": "markdown",
   "metadata": {},
   "source": [
    "Посчитаем частоту слов"
   ]
  },
  {
   "cell_type": "code",
   "execution_count": 28,
   "metadata": {},
   "outputs": [],
   "source": [
    "word2tfidf = dict(zip(count_vect.get_feature_names(), idf_vectorizer.idf_))"
   ]
  },
  {
   "cell_type": "markdown",
   "metadata": {},
   "source": [
    "Остортируем словарь по частоте"
   ]
  },
  {
   "cell_type": "code",
   "execution_count": 29,
   "metadata": {},
   "outputs": [],
   "source": [
    "sorted_vocab = sorted(word2tfidf, key=word2tfidf.get)"
   ]
  },
  {
   "cell_type": "code",
   "execution_count": 30,
   "metadata": {},
   "outputs": [],
   "source": [
    "# don't run it\n",
    "# for r in sorted_vocab:\n",
    "#     print (f'{r}, {word2tfidf[r]}')"
   ]
  },
  {
   "cell_type": "markdown",
   "metadata": {},
   "source": [
    "Удалим самые частые слова"
   ]
  },
  {
   "cell_type": "markdown",
   "metadata": {},
   "source": [
    "**На удаление 10000 слов у меня ушло 6 и 12 минут, удалите это не значение, если не хотите ждать.**"
   ]
  },
  {
   "cell_type": "code",
   "execution_count": 31,
   "metadata": {},
   "outputs": [
    {
     "name": "stdout",
     "output_type": "stream",
     "text": [
      "Deleting first 10 most frecuent words...\n",
      "Time to clean data: 1.59 seconds\n",
      "                          precision    recall  f1-score   support\n",
      "\n",
      "             alt.atheism       0.73      0.52      0.61       130\n",
      "           comp.graphics       0.72      0.69      0.70       157\n",
      " comp.os.ms-windows.misc       0.74      0.70      0.72       152\n",
      "comp.sys.ibm.pc.hardware       0.73      0.70      0.71       135\n",
      "   comp.sys.mac.hardware       0.83      0.81      0.82       160\n",
      "          comp.windows.x       0.80      0.82      0.81       169\n",
      "            misc.forsale       0.74      0.79      0.76       162\n",
      "               rec.autos       0.75      0.71      0.73       152\n",
      "         rec.motorcycles       0.75      0.79      0.77       165\n",
      "      rec.sport.baseball       0.86      0.84      0.85       162\n",
      "        rec.sport.hockey       0.57      0.93      0.71       137\n",
      "               sci.crypt       0.88      0.80      0.84       161\n",
      "         sci.electronics       0.70      0.72      0.71       160\n",
      "                 sci.med       0.80      0.84      0.82       173\n",
      "               sci.space       0.88      0.75      0.81       157\n",
      "  soc.religion.christian       0.67      0.85      0.75       159\n",
      "      talk.politics.guns       0.71      0.79      0.75       140\n",
      "   talk.politics.mideast       0.78      0.87      0.82       151\n",
      "      talk.politics.misc       0.74      0.51      0.60       132\n",
      "      talk.religion.misc       0.62      0.34      0.44       102\n",
      "\n",
      "             avg / total       0.76      0.75      0.75      3016\n",
      "\n",
      "Vocabulary size: 106945\n",
      "Time to run tf-idf svm: 2.85 seconds\n",
      "----------------------------------------\n",
      "Deleting first 100 most frecuent words...\n",
      "Time to clean data: 5.46 seconds\n",
      "                          precision    recall  f1-score   support\n",
      "\n",
      "             alt.atheism       0.66      0.58      0.62       130\n",
      "           comp.graphics       0.71      0.69      0.70       157\n",
      " comp.os.ms-windows.misc       0.70      0.69      0.70       152\n",
      "comp.sys.ibm.pc.hardware       0.72      0.73      0.73       135\n",
      "   comp.sys.mac.hardware       0.84      0.80      0.82       160\n",
      "          comp.windows.x       0.81      0.81      0.81       169\n",
      "            misc.forsale       0.78      0.80      0.79       162\n",
      "               rec.autos       0.82      0.71      0.76       152\n",
      "         rec.motorcycles       0.82      0.79      0.80       165\n",
      "      rec.sport.baseball       0.85      0.87      0.86       162\n",
      "        rec.sport.hockey       0.57      0.93      0.71       137\n",
      "               sci.crypt       0.88      0.80      0.83       161\n",
      "         sci.electronics       0.68      0.74      0.71       160\n",
      "                 sci.med       0.83      0.84      0.84       173\n",
      "               sci.space       0.81      0.77      0.79       157\n",
      "  soc.religion.christian       0.69      0.84      0.76       159\n",
      "      talk.politics.guns       0.71      0.76      0.74       140\n",
      "   talk.politics.mideast       0.81      0.85      0.83       151\n",
      "      talk.politics.misc       0.73      0.47      0.57       132\n",
      "      talk.religion.misc       0.65      0.36      0.47       102\n",
      "\n",
      "             avg / total       0.76      0.75      0.75      3016\n",
      "\n",
      "Vocabulary size: 106855\n",
      "Time to run tf-idf svm: 2.51 seconds\n",
      "----------------------------------------\n",
      "Deleting first 1000 most frecuent words...\n",
      "Time to clean data: 39.97 seconds\n",
      "                          precision    recall  f1-score   support\n",
      "\n",
      "             alt.atheism       0.75      0.55      0.64       130\n",
      "           comp.graphics       0.73      0.66      0.69       157\n",
      " comp.os.ms-windows.misc       0.70      0.65      0.67       152\n",
      "comp.sys.ibm.pc.hardware       0.66      0.63      0.65       135\n",
      "   comp.sys.mac.hardware       0.79      0.73      0.76       160\n",
      "          comp.windows.x       0.80      0.86      0.83       169\n",
      "            misc.forsale       0.64      0.69      0.66       162\n",
      "               rec.autos       0.50      0.80      0.61       152\n",
      "         rec.motorcycles       0.80      0.80      0.80       165\n",
      "      rec.sport.baseball       0.84      0.84      0.84       162\n",
      "        rec.sport.hockey       0.87      0.91      0.89       137\n",
      "               sci.crypt       0.90      0.76      0.82       161\n",
      "         sci.electronics       0.67      0.74      0.70       160\n",
      "                 sci.med       0.85      0.82      0.83       173\n",
      "               sci.space       0.78      0.73      0.75       157\n",
      "  soc.religion.christian       0.66      0.82      0.73       159\n",
      "      talk.politics.guns       0.65      0.77      0.71       140\n",
      "   talk.politics.mideast       0.87      0.86      0.87       151\n",
      "      talk.politics.misc       0.71      0.55      0.62       132\n",
      "      talk.religion.misc       0.65      0.35      0.46       102\n",
      "\n",
      "             avg / total       0.74      0.74      0.73      3016\n",
      "\n",
      "Vocabulary size: 105955\n",
      "Time to run tf-idf svm: 1.66 seconds\n",
      "----------------------------------------\n",
      "Deleting first 10000 most frecuent words...\n",
      "Time to clean data: 362.51 seconds\n",
      "                          precision    recall  f1-score   support\n",
      "\n",
      "             alt.atheism       0.57      0.39      0.47       130\n",
      "           comp.graphics       0.67      0.49      0.57       157\n",
      " comp.os.ms-windows.misc       0.59      0.40      0.48       152\n",
      "comp.sys.ibm.pc.hardware       0.54      0.42      0.47       135\n",
      "   comp.sys.mac.hardware       0.64      0.51      0.57       160\n",
      "          comp.windows.x       0.74      0.66      0.70       169\n",
      "            misc.forsale       0.51      0.43      0.47       162\n",
      "               rec.autos       0.62      0.56      0.59       152\n",
      "         rec.motorcycles       0.65      0.49      0.56       165\n",
      "      rec.sport.baseball       0.72      0.67      0.70       162\n",
      "        rec.sport.hockey       0.73      0.69      0.71       137\n",
      "               sci.crypt       0.20      0.65      0.31       161\n",
      "         sci.electronics       0.54      0.49      0.52       160\n",
      "                 sci.med       0.73      0.72      0.72       173\n",
      "               sci.space       0.66      0.60      0.63       157\n",
      "  soc.religion.christian       0.57      0.62      0.59       159\n",
      "      talk.politics.guns       0.55      0.51      0.53       140\n",
      "   talk.politics.mideast       0.65      0.71      0.68       151\n",
      "      talk.politics.misc       0.41      0.42      0.42       132\n",
      "      talk.religion.misc       0.50      0.33      0.40       102\n",
      "\n",
      "             avg / total       0.59      0.55      0.56      3016\n",
      "\n",
      "Vocabulary size: 96955\n",
      "Time to run tf-idf svm: 0.81 seconds\n",
      "----------------------------------------\n"
     ]
    }
   ],
   "source": [
    "numbers = [10, 100, 1000, 10000]\n",
    "\n",
    "c = 0\n",
    "def clean(sent):\n",
    "    return ' '.join([word for word in sent.split() if not word in sorted_vocab[0:numbers[c]]])\n",
    "\n",
    "for n in numbers:\n",
    "    print(f'Deleting first {numbers[c]} most frecuent words...')\n",
    "    tic = time.clock()\n",
    "    data_clean = list(map(clean, new_data))\n",
    "    toc = time.clock()\n",
    "    print(f'Time to clean data: {round((toc - tic), 2)} seconds')\n",
    "    \n",
    "    tic = time.clock()\n",
    "    runIdf(data_clean)\n",
    "    toc = time.clock()\n",
    "    print(f'Time to run tf-idf svm: {round((toc - tic), 2)} seconds')\n",
    "    print('----------------------------------------')\n",
    "    \n",
    "    c += 1"
   ]
  },
  {
   "cell_type": "markdown",
   "metadata": {},
   "source": [
    "С удалением часто встречающихся алгоритм работает намного быстрее, однако сама операция удаления затратна. Если мы удалим 10 или 100 самых часто встречающихся слов качество алгоритма не сильно измениться. Если удалить 1000 качество ухудшится не сильно, а если 10000 то очень сильно.  "
   ]
  },
  {
   "cell_type": "markdown",
   "metadata": {},
   "source": [
    "Удалим самые редкие слова"
   ]
  },
  {
   "cell_type": "code",
   "execution_count": 32,
   "metadata": {},
   "outputs": [
    {
     "name": "stdout",
     "output_type": "stream",
     "text": [
      "Deleting last 10 most frecuent words...\n",
      "Time to clean data: 1.73 seconds\n",
      "                          precision    recall  f1-score   support\n",
      "\n",
      "             alt.atheism       0.72      0.53      0.61       130\n",
      "           comp.graphics       0.72      0.70      0.71       157\n",
      " comp.os.ms-windows.misc       0.70      0.69      0.70       152\n",
      "comp.sys.ibm.pc.hardware       0.71      0.73      0.72       135\n",
      "   comp.sys.mac.hardware       0.86      0.82      0.84       160\n",
      "          comp.windows.x       0.82      0.80      0.81       169\n",
      "            misc.forsale       0.52      0.82      0.64       162\n",
      "               rec.autos       0.76      0.75      0.75       152\n",
      "         rec.motorcycles       0.73      0.84      0.78       165\n",
      "      rec.sport.baseball       0.83      0.85      0.84       162\n",
      "        rec.sport.hockey       0.87      0.93      0.90       137\n",
      "               sci.crypt       0.88      0.78      0.83       161\n",
      "         sci.electronics       0.75      0.74      0.74       160\n",
      "                 sci.med       0.88      0.82      0.85       173\n",
      "               sci.space       0.84      0.71      0.77       157\n",
      "  soc.religion.christian       0.67      0.85      0.75       159\n",
      "      talk.politics.guns       0.69      0.79      0.74       140\n",
      "   talk.politics.mideast       0.81      0.85      0.83       151\n",
      "      talk.politics.misc       0.70      0.48      0.57       132\n",
      "      talk.religion.misc       0.65      0.30      0.41       102\n",
      "\n",
      "             avg / total       0.76      0.75      0.75      3016\n",
      "\n",
      "Vocabulary size: 106945\n",
      "Time to run tf-idf svm: 3.19 seconds\n",
      "----------------------------------------\n",
      "Deleting last 100 most frecuent words...\n",
      "Time to clean data: 6.74 seconds\n",
      "                          precision    recall  f1-score   support\n",
      "\n",
      "             alt.atheism       0.72      0.55      0.62       130\n",
      "           comp.graphics       0.73      0.71      0.72       157\n",
      " comp.os.ms-windows.misc       0.73      0.68      0.71       152\n",
      "comp.sys.ibm.pc.hardware       0.72      0.68      0.70       135\n",
      "   comp.sys.mac.hardware       0.86      0.81      0.84       160\n",
      "          comp.windows.x       0.80      0.82      0.81       169\n",
      "            misc.forsale       0.52      0.81      0.63       162\n",
      "               rec.autos       0.71      0.76      0.73       152\n",
      "         rec.motorcycles       0.78      0.80      0.79       165\n",
      "      rec.sport.baseball       0.86      0.85      0.86       162\n",
      "        rec.sport.hockey       0.85      0.92      0.88       137\n",
      "               sci.crypt       0.88      0.79      0.83       161\n",
      "         sci.electronics       0.73      0.72      0.73       160\n",
      "                 sci.med       0.80      0.86      0.82       173\n",
      "               sci.space       0.84      0.75      0.79       157\n",
      "  soc.religion.christian       0.67      0.82      0.74       159\n",
      "      talk.politics.guns       0.73      0.79      0.76       140\n",
      "   talk.politics.mideast       0.79      0.86      0.82       151\n",
      "      talk.politics.misc       0.77      0.47      0.58       132\n",
      "      talk.religion.misc       0.60      0.33      0.43       102\n",
      "\n",
      "             avg / total       0.76      0.75      0.75      3016\n",
      "\n",
      "Vocabulary size: 106855\n",
      "Time to run tf-idf svm: 3.2 seconds\n",
      "----------------------------------------\n",
      "Deleting last 1000 most frecuent words...\n",
      "Time to clean data: 62.23 seconds\n",
      "                          precision    recall  f1-score   support\n",
      "\n",
      "             alt.atheism       0.71      0.58      0.64       130\n",
      "           comp.graphics       0.70      0.70      0.70       157\n",
      " comp.os.ms-windows.misc       0.72      0.70      0.71       152\n",
      "comp.sys.ibm.pc.hardware       0.69      0.71      0.70       135\n",
      "   comp.sys.mac.hardware       0.86      0.80      0.83       160\n",
      "          comp.windows.x       0.83      0.82      0.82       169\n",
      "            misc.forsale       0.53      0.81      0.64       162\n",
      "               rec.autos       0.77      0.73      0.75       152\n",
      "         rec.motorcycles       0.77      0.79      0.78       165\n",
      "      rec.sport.baseball       0.85      0.85      0.85       162\n",
      "        rec.sport.hockey       0.86      0.92      0.89       137\n",
      "               sci.crypt       0.86      0.80      0.83       161\n",
      "         sci.electronics       0.72      0.74      0.73       160\n",
      "                 sci.med       0.82      0.84      0.83       173\n",
      "               sci.space       0.83      0.74      0.78       157\n",
      "  soc.religion.christian       0.71      0.82      0.76       159\n",
      "      talk.politics.guns       0.70      0.79      0.74       140\n",
      "   talk.politics.mideast       0.78      0.87      0.82       151\n",
      "      talk.politics.misc       0.71      0.51      0.59       132\n",
      "      talk.religion.misc       0.70      0.31      0.43       102\n",
      "\n",
      "             avg / total       0.76      0.75      0.75      3016\n",
      "\n",
      "Vocabulary size: 105955\n",
      "Time to run tf-idf svm: 3.21 seconds\n",
      "----------------------------------------\n",
      "Deleting last 10000 most frecuent words...\n",
      "Time to clean data: 835.52 seconds\n",
      "                          precision    recall  f1-score   support\n",
      "\n",
      "             alt.atheism       0.71      0.53      0.61       130\n",
      "           comp.graphics       0.72      0.72      0.72       157\n",
      " comp.os.ms-windows.misc       0.70      0.72      0.71       152\n",
      "comp.sys.ibm.pc.hardware       0.70      0.72      0.71       135\n",
      "   comp.sys.mac.hardware       0.85      0.80      0.82       160\n",
      "          comp.windows.x       0.82      0.80      0.81       169\n",
      "            misc.forsale       0.53      0.83      0.64       162\n",
      "               rec.autos       0.78      0.71      0.74       152\n",
      "         rec.motorcycles       0.77      0.81      0.79       165\n",
      "      rec.sport.baseball       0.87      0.85      0.86       162\n",
      "        rec.sport.hockey       0.83      0.93      0.88       137\n",
      "               sci.crypt       0.93      0.75      0.83       161\n",
      "         sci.electronics       0.71      0.74      0.73       160\n",
      "                 sci.med       0.83      0.84      0.84       173\n",
      "               sci.space       0.85      0.75      0.79       157\n",
      "  soc.religion.christian       0.65      0.85      0.74       159\n",
      "      talk.politics.guns       0.70      0.79      0.74       140\n",
      "   talk.politics.mideast       0.79      0.85      0.82       151\n",
      "      talk.politics.misc       0.74      0.50      0.60       132\n",
      "      talk.religion.misc       0.64      0.31      0.42       102\n",
      "\n",
      "             avg / total       0.76      0.75      0.75      3016\n",
      "\n",
      "Vocabulary size: 96955\n",
      "Time to run tf-idf svm: 3.18 seconds\n",
      "----------------------------------------\n"
     ]
    }
   ],
   "source": [
    "c = 0\n",
    "def clean(sent):\n",
    "    return ' '.join([word for word in sent.split() if not word in sorted_vocab[-numbers[c]:]])\n",
    "\n",
    "for n in numbers:\n",
    "    print(f'Deleting last {numbers[c]} most frecuent words...')\n",
    "    tic = time.clock()\n",
    "    data_clean = list(map(clean, new_data))\n",
    "    toc = time.clock()\n",
    "    print(f'Time to clean data: {round((toc - tic), 2)} seconds')\n",
    "    \n",
    "    tic = time.clock()\n",
    "    runIdf(data_clean)\n",
    "    toc = time.clock()\n",
    "    print(f'Time to run tf-idf svm: {round((toc - tic), 2)} seconds')\n",
    "    print('----------------------------------------')\n",
    "    \n",
    "    c += 1"
   ]
  },
  {
   "cell_type": "markdown",
   "metadata": {},
   "source": [
    "Время работы алгоритма не меняется. Качество не изменилось. "
   ]
  },
  {
   "cell_type": "markdown",
   "metadata": {},
   "source": [
    "Удалим стоп-слова"
   ]
  },
  {
   "cell_type": "code",
   "execution_count": 33,
   "metadata": {},
   "outputs": [],
   "source": [
    "sw_eng = set(stopwords.words('english'))"
   ]
  },
  {
   "cell_type": "code",
   "execution_count": 34,
   "metadata": {},
   "outputs": [],
   "source": [
    "def clean(sent):\n",
    "    return ' '.join([word for word in sent.split() if not word in sw_eng])\n",
    "\n",
    "data_clean = list(map(clean, new_data))"
   ]
  },
  {
   "cell_type": "code",
   "execution_count": 35,
   "metadata": {},
   "outputs": [
    {
     "name": "stdout",
     "output_type": "stream",
     "text": [
      "                          precision    recall  f1-score   support\n",
      "\n",
      "             alt.atheism       0.68      0.55      0.61       130\n",
      "           comp.graphics       0.74      0.69      0.72       157\n",
      " comp.os.ms-windows.misc       0.70      0.72      0.71       152\n",
      "comp.sys.ibm.pc.hardware       0.71      0.72      0.72       135\n",
      "   comp.sys.mac.hardware       0.84      0.80      0.82       160\n",
      "          comp.windows.x       0.81      0.82      0.82       169\n",
      "            misc.forsale       0.77      0.79      0.78       162\n",
      "               rec.autos       0.83      0.72      0.77       152\n",
      "         rec.motorcycles       0.54      0.83      0.66       165\n",
      "      rec.sport.baseball       0.85      0.88      0.86       162\n",
      "        rec.sport.hockey       0.92      0.92      0.92       137\n",
      "               sci.crypt       0.88      0.77      0.82       161\n",
      "         sci.electronics       0.66      0.72      0.69       160\n",
      "                 sci.med       0.83      0.84      0.84       173\n",
      "               sci.space       0.82      0.75      0.78       157\n",
      "  soc.religion.christian       0.68      0.84      0.75       159\n",
      "      talk.politics.guns       0.72      0.79      0.75       140\n",
      "   talk.politics.mideast       0.78      0.86      0.82       151\n",
      "      talk.politics.misc       0.76      0.51      0.61       132\n",
      "      talk.religion.misc       0.69      0.32      0.44       102\n",
      "\n",
      "             avg / total       0.76      0.75      0.75      3016\n",
      "\n",
      "Vocabulary size: 106811\n",
      "CPU times: user 2.23 s, sys: 46 ms, total: 2.27 s\n",
      "Wall time: 2.27 s\n"
     ]
    }
   ],
   "source": [
    "%%time\n",
    "runIdf(data_clean)"
   ]
  },
  {
   "cell_type": "markdown",
   "metadata": {},
   "source": [
    "Качество не изменилось. Алгоритм стал работать значильно быстрее."
   ]
  },
  {
   "cell_type": "markdown",
   "metadata": {},
   "source": [
    "# 4 Дополнительно"
   ]
  },
  {
   "cell_type": "markdown",
   "metadata": {},
   "source": [
    "## 1 "
   ]
  },
  {
   "cell_type": "markdown",
   "metadata": {},
   "source": [
    "Проверим использование 2-грамм и 3-грамм."
   ]
  },
  {
   "cell_type": "code",
   "execution_count": 36,
   "metadata": {},
   "outputs": [
    {
     "name": "stdout",
     "output_type": "stream",
     "text": [
      "                          precision    recall  f1-score   support\n",
      "\n",
      "             alt.atheism       0.79      0.52      0.62       130\n",
      "           comp.graphics       0.68      0.68      0.68       157\n",
      " comp.os.ms-windows.misc       0.73      0.68      0.71       152\n",
      "comp.sys.ibm.pc.hardware       0.71      0.67      0.69       135\n",
      "   comp.sys.mac.hardware       0.81      0.80      0.80       160\n",
      "          comp.windows.x       0.78      0.84      0.81       169\n",
      "            misc.forsale       0.77      0.83      0.80       162\n",
      "               rec.autos       0.79      0.74      0.76       152\n",
      "         rec.motorcycles       0.81      0.78      0.79       165\n",
      "      rec.sport.baseball       0.56      0.91      0.69       162\n",
      "        rec.sport.hockey       0.84      0.94      0.89       137\n",
      "               sci.crypt       0.84      0.79      0.81       161\n",
      "         sci.electronics       0.72      0.70      0.71       160\n",
      "                 sci.med       0.87      0.83      0.85       173\n",
      "               sci.space       0.84      0.71      0.77       157\n",
      "  soc.religion.christian       0.63      0.88      0.74       159\n",
      "      talk.politics.guns       0.72      0.76      0.74       140\n",
      "   talk.politics.mideast       0.79      0.85      0.82       151\n",
      "      talk.politics.misc       0.76      0.49      0.60       132\n",
      "      talk.religion.misc       0.73      0.31      0.44       102\n",
      "\n",
      "             avg / total       0.76      0.75      0.74      3016\n",
      "\n",
      "Vocabulary size: 994718\n",
      "CPU times: user 12.5 s, sys: 332 ms, total: 12.9 s\n",
      "Wall time: 12.9 s\n"
     ]
    }
   ],
   "source": [
    "%%time\n",
    "idf_vectorizer = TfidfVectorizer(ngram_range=(1, 2))\n",
    "X_train_idf = idf_vectorizer.fit_transform(X_train)\n",
    "X_val_idf = idf_vectorizer.transform(X_val)\n",
    "X_test_idf = idf_vectorizer.transform(X_test)\n",
    "\n",
    "svm_idf = SGDClassifier()\n",
    "svm_idf.fit(X_train_idf, y_train)\n",
    "predicted_idf = svm_idf.predict(X_val_idf)\n",
    "\n",
    "print(metrics.classification_report(y_val, predicted_idf,\n",
    "                                target_names=twenty.target_names))\n",
    "print(f\"Vocabulary size: {len(idf_vectorizer.vocabulary_)}\")"
   ]
  },
  {
   "cell_type": "code",
   "execution_count": 37,
   "metadata": {},
   "outputs": [
    {
     "name": "stdout",
     "output_type": "stream",
     "text": [
      "                          precision    recall  f1-score   support\n",
      "\n",
      "             alt.atheism       0.81      0.48      0.61       130\n",
      "           comp.graphics       0.70      0.65      0.68       157\n",
      " comp.os.ms-windows.misc       0.69      0.72      0.71       152\n",
      "comp.sys.ibm.pc.hardware       0.70      0.68      0.69       135\n",
      "   comp.sys.mac.hardware       0.83      0.78      0.81       160\n",
      "          comp.windows.x       0.76      0.81      0.79       169\n",
      "            misc.forsale       0.73      0.84      0.78       162\n",
      "               rec.autos       0.83      0.70      0.76       152\n",
      "         rec.motorcycles       0.54      0.80      0.65       165\n",
      "      rec.sport.baseball       0.77      0.85      0.81       162\n",
      "        rec.sport.hockey       0.82      0.93      0.87       137\n",
      "               sci.crypt       0.77      0.80      0.79       161\n",
      "         sci.electronics       0.75      0.67      0.71       160\n",
      "                 sci.med       0.87      0.83      0.85       173\n",
      "               sci.space       0.83      0.69      0.76       157\n",
      "  soc.religion.christian       0.58      0.88      0.70       159\n",
      "      talk.politics.guns       0.74      0.74      0.74       140\n",
      "   talk.politics.mideast       0.77      0.83      0.80       151\n",
      "      talk.politics.misc       0.72      0.48      0.57       132\n",
      "      talk.religion.misc       0.71      0.26      0.39       102\n",
      "\n",
      "             avg / total       0.75      0.74      0.73      3016\n",
      "\n",
      "Vocabulary size: 2652817\n",
      "CPU times: user 27 s, sys: 829 ms, total: 27.9 s\n",
      "Wall time: 27.9 s\n"
     ]
    }
   ],
   "source": [
    "%%time\n",
    "idf_vectorizer = TfidfVectorizer(ngram_range=(1, 3))\n",
    "X_train_idf = idf_vectorizer.fit_transform(X_train)\n",
    "X_val_idf = idf_vectorizer.transform(X_val)\n",
    "X_test_idf = idf_vectorizer.transform(X_test)\n",
    "\n",
    "svm_idf = SGDClassifier()\n",
    "svm_idf.fit(X_train_idf, y_train)\n",
    "predicted_idf = svm_idf.predict(X_val_idf)\n",
    "\n",
    "print(metrics.classification_report(y_val, predicted_idf,\n",
    "                                target_names=twenty.target_names))\n",
    "print(f\"Vocabulary size: {len(idf_vectorizer.vocabulary_)}\")"
   ]
  },
  {
   "cell_type": "markdown",
   "metadata": {},
   "source": [
    "Качество ухудшается, время увеличивается."
   ]
  },
  {
   "cell_type": "markdown",
   "metadata": {},
   "source": [
    "## 2"
   ]
  },
  {
   "cell_type": "markdown",
   "metadata": {},
   "source": [
    "_Закон Ципфа («ранг—частота») — эмпирическая закономерность распределения частоты слов естественного языка: если все слова языка (или просто достаточно длинного текста) упорядочить по убыванию частоты их использования, то частота n-го слова в таком списке окажется приблизительно обратно пропорциональной его порядковому номеру n (так называемому рангу этого слова, см. шкала порядка)._"
   ]
  },
  {
   "cell_type": "code",
   "execution_count": 38,
   "metadata": {},
   "outputs": [],
   "source": [
    "values = []\n",
    "\n",
    "for r in sorted_vocab:\n",
    "    values.append(1/word2tfidf[r])"
   ]
  },
  {
   "cell_type": "code",
   "execution_count": 39,
   "metadata": {},
   "outputs": [
    {
     "data": {
      "image/png": "[encoded data removed]",
      "text/plain": [
       "<Figure size 432x288 with 1 Axes>"
      ]
     },
     "metadata": {
      "needs_background": "light"
     },
     "output_type": "display_data"
    }
   ],
   "source": [
    "y = values\n",
    "plt.plot(range(len(y)), y)\n",
    "plt.ylabel('частота')\n",
    "plt.xlabel('порядковый номер')\n",
    "plt.show()"
   ]
  },
  {
   "cell_type": "code",
   "execution_count": 40,
   "metadata": {},
   "outputs": [
    {
     "data": {
      "image/png": "[encoded data removed]",
      "text/plain": [
       "<Figure size 432x288 with 1 Axes>"
      ]
     },
     "metadata": {
      "needs_background": "light"
     },
     "output_type": "display_data"
    }
   ],
   "source": [
    "y = values[0:200]\n",
    "plt.plot(range(len(y)), y)\n",
    "\n",
    "x2 = list(range(1, 200))\n",
    "y2 = []\n",
    "for i in x2:\n",
    "    y2.append(1/i)\n",
    "\n",
    "plt.plot(x2, y2)\n",
    "plt.ylabel('частота')\n",
    "plt.xlabel('порядковый номер')\n",
    "plt.show()"
   ]
  },
  {
   "cell_type": "markdown",
   "metadata": {},
   "source": [
    "Форма похожая, частота приблизительно обратно пропорциональной его порядковому номеру. "
   ]
  },
  {
   "cell_type": "code",
   "execution_count": 41,
   "metadata": {},
   "outputs": [
    {
     "data": {
      "image/png": "[encoded data removed]",
      "text/plain": [
       "<Figure size 432x288 with 1 Axes>"
      ]
     },
     "metadata": {
      "needs_background": "light"
     },
     "output_type": "display_data"
    }
   ],
   "source": [
    "y = values[100:]\n",
    "plt.plot(range(len(y)), y)\n",
    "plt.ylabel('частота')\n",
    "plt.xlabel('порядковый номер')\n",
    "plt.show()"
   ]
  },
  {
   "cell_type": "code",
   "execution_count": 42,
   "metadata": {},
   "outputs": [
    {
     "data": {
      "image/png": "[encoded data removed]",
      "text/plain": [
       "<Figure size 432x288 with 1 Axes>"
      ]
     },
     "metadata": {
      "needs_background": "light"
     },
     "output_type": "display_data"
    }
   ],
   "source": [
    "y = values[1000:]\n",
    "plt.plot(range(len(y)), y)\n",
    "plt.xlabel('порядковый номер')\n",
    "plt.ylabel('частота')\n",
    "plt.show()"
   ]
  },
  {
   "cell_type": "markdown",
   "metadata": {},
   "source": [
    "Если убрать самые частые слова, форма примерно сохраняется."
   ]
  },
  {
   "cell_type": "markdown",
   "metadata": {},
   "source": [
    "_Закон Хипса — эмпирическая закономерность в лингвистике, описывающая распределение числа уникальных слов в документе (или наборе документов) как функцию от его длины._ "
   ]
  },
  {
   "cell_type": "code",
   "execution_count": 43,
   "metadata": {},
   "outputs": [],
   "source": [
    "arr = []\n",
    "for t in new_data:\n",
    "    n_words = len(t.split())\n",
    "    n_unique = len(Counter(t.split()))\n",
    "    arr.append((n_words, n_unique))"
   ]
  },
  {
   "cell_type": "code",
   "execution_count": 44,
   "metadata": {},
   "outputs": [],
   "source": [
    "s = sorted(arr, key=lambda x: x[0])"
   ]
  },
  {
   "cell_type": "code",
   "execution_count": 45,
   "metadata": {},
   "outputs": [
    {
     "data": {
      "image/png": "[encoded data removed]",
      "text/plain": [
       "<Figure size 432x288 with 1 Axes>"
      ]
     },
     "metadata": {
      "needs_background": "light"
     },
     "output_type": "display_data"
    }
   ],
   "source": [
    "plt.plot(*zip(*s))\n",
    "plt.xlabel('количество слов')\n",
    "plt.ylabel('количество уникальных слов')\n",
    "plt.show()"
   ]
  },
  {
   "cell_type": "code",
   "execution_count": 46,
   "metadata": {},
   "outputs": [
    {
     "data": {
      "image/png": "[encoded data removed]",
      "text/plain": [
       "<Figure size 432x288 with 1 Axes>"
      ]
     },
     "metadata": {
      "needs_background": "light"
     },
     "output_type": "display_data"
    }
   ],
   "source": [
    "plt.scatter(*zip(*s[0:18000]), s=1)\n",
    "plt.xlabel('количество слов')\n",
    "plt.ylabel('количество уникальных слов')\n",
    "plt.show()"
   ]
  },
  {
   "cell_type": "markdown",
   "metadata": {},
   "source": [
    "Прослеживается зависимость, число уникальных слов в документе можно описать как функцию от его длины, закон Хипса соблюдается."
   ]
  },
  {
   "cell_type": "code",
   "execution_count": 47,
   "metadata": {},
   "outputs": [
    {
     "data": {
      "image/png": "[encoded data removed]",
      "text/plain": [
       "<Figure size 432x288 with 1 Axes>"
      ]
     },
     "metadata": {
      "needs_background": "light"
     },
     "output_type": "display_data"
    },
    {
     "name": "stdout",
     "output_type": "stream",
     "text": [
      "CPU times: user 6.04 s, sys: 9.64 ms, total: 6.05 s\n",
      "Wall time: 6.05 s\n"
     ]
    }
   ],
   "source": [
    "%%time\n",
    "def clean(sent):\n",
    "    return ' '.join([word for word in sent.split() if not word in sorted_vocab[0:100]])\n",
    "\n",
    "data_clean = list(map(clean, new_data))\n",
    "arr = []\n",
    "for t in data_clean:\n",
    "    n_words = len(t.split())\n",
    "    n_unique = len(Counter(t.split()))\n",
    "    arr.append((n_words, n_unique))\n",
    "\n",
    "s = sorted(arr, key=lambda x: x[0])\n",
    "plt.scatter(*zip(*s[0:10000]), s=1)\n",
    "plt.xlabel('количество слов')\n",
    "plt.ylabel('количество уникальных слов')\n",
    "plt.show()"
   ]
  },
  {
   "cell_type": "markdown",
   "metadata": {},
   "source": [
    "После удаления 100 самых частых слов, форма немного изменилась, зависимость стала более линейной."
   ]
  },
  {
   "cell_type": "code",
   "execution_count": 48,
   "metadata": {},
   "outputs": [
    {
     "data": {
      "image/png": "[encoded data removed]",
      "text/plain": [
       "<Figure size 432x288 with 1 Axes>"
      ]
     },
     "metadata": {
      "needs_background": "light"
     },
     "output_type": "display_data"
    }
   ],
   "source": [
    "for t in data_stem:\n",
    "    n_words = len(t.split())\n",
    "    n_unique = len(Counter(t.split()))\n",
    "    arr.append((n_words, n_unique))\n",
    "\n",
    "s = sorted(arr, key=lambda x: x[0])\n",
    "plt.scatter(*zip(*s[0:18000]), s=1)\n",
    "plt.xlabel('количество слов')\n",
    "plt.ylabel('количество уникальных слов')\n",
    "plt.show()"
   ]
  },
  {
   "cell_type": "code",
   "execution_count": 49,
   "metadata": {},
   "outputs": [
    {
     "data": {
      "image/png": "[encoded data removed]",
      "text/plain": [
       "<Figure size 432x288 with 1 Axes>"
      ]
     },
     "metadata": {
      "needs_background": "light"
     },
     "output_type": "display_data"
    }
   ],
   "source": [
    "for t in data_lemm:\n",
    "    n_words = len(t.split())\n",
    "    n_unique = len(Counter(t.split()))\n",
    "    arr.append((n_words, n_unique))\n",
    "\n",
    "s = sorted(arr, key=lambda x: x[0])\n",
    "plt.scatter(*zip(*s[0:18000]), s=1)\n",
    "plt.xlabel('количество слов')\n",
    "plt.ylabel('количество уникальных слов')\n",
    "plt.show()"
   ]
  },
  {
   "cell_type": "markdown",
   "metadata": {},
   "source": [
    "Нормализация также сделала зависимость более линейной."
   ]
  },
  {
   "cell_type": "markdown",
   "metadata": {},
   "source": [
    "# Метрики"
   ]
  },
  {
   "cell_type": "code",
   "execution_count": 51,
   "metadata": {},
   "outputs": [],
   "source": [
    "#                   F1-score  Time(s)\n",
    "# CountVectorizer    0.57\n",
    "\n",
    "# TfidfVectorizer    0.75     3.32\n",
    "# +стемминг           0.75     3.07\n",
    "# +лемматизация        0.75     3.09\n",
    "\n",
    "# удаление\n",
    "# 10 частных слов      0.75     2.85\n",
    "# 100 частных слов     0.75     2.51\n",
    "# 1000 частных слов    0.73     1.66\n",
    "# 10000 частных слов   0.56     0.81\n",
    "\n",
    "# 10 редких слов       0.75     3.19\n",
    "# 100 редких слов      0.75     3.2\n",
    "# 1000 редких слов     0.75     3.21\n",
    "# 10000 редких слов    0.75     3.18\n",
    "\n",
    "# удаление стоп-слов    0.75     2.27\n",
    "\n",
    "# использование 2-грамм 0.74     12.9\n",
    "# использование 3-грамм 0.73     27.9"
   ]
  }
 ],
 "metadata": {
  "kernelspec": {
   "display_name": "Python 3",
   "language": "python",
   "name": "python3"
  },
  "language_info": {
   "codemirror_mode": {
    "name": "ipython",
    "version": 3
   },
   "file_extension": ".py",
   "mimetype": "text/x-python",
   "name": "python",
   "nbconvert_exporter": "python",
   "pygments_lexer": "ipython3",
   "version": "3.6.3"
  }
 },
 "nbformat": 4,
 "nbformat_minor": 2
}
