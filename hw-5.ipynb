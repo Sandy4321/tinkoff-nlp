{
 "cells": [
  {
   "cell_type": "markdown",
   "metadata": {},
   "source": [
    "# Fun with language modelling\n",
    "\n",
    "* [Unreasonable effectiveness of RNN](http://karpathy.github.io/2015/05/21/rnn-effectiveness/) (Andrej Karpathy)\n",
    "* [Официальный гайд от TensorFlow](https://www.tensorflow.org/tutorials/sequences/recurrent)\n",
    "\n",
    "---"
   ]
  },
  {
   "cell_type": "markdown",
   "metadata": {},
   "source": [
    "## Препроцессинг (2 балл)\n",
    "\n",
    "Возьмите какие-нибудь сырые данные. Википедия, «Гарри Поттер», «Игра Престолов», твиты Тинькова — что угодно.\n",
    "\n",
    "Давайте для простоты делать char-level модель. Сопоставьте всем различным символам свой номер. Удобно это хранить просто в питоновском словаре (`char2idx`). Для генерации вам потребуется ещё и обратный словарь (`idx2char`).\n",
    "\n",
    "Клёво будет ещё написать класс, который делает токенизацию и детокенизацию."
   ]
  },
  {
   "cell_type": "code",
   "execution_count": null,
   "metadata": {},
   "outputs": [],
   "source": [
    "# !wget ...\n",
    "with open(filename, 'r') as file:\n",
    "    # ..."
   ]
  },
  {
   "cell_type": "code",
   "execution_count": 57,
   "metadata": {},
   "outputs": [],
   "source": [
    "class Vocab:\n",
    "    def __init__(self, data):\n",
    "        self.char2idx = {}\n",
    "        self.idx2char = {}\n",
    "        # ...\n",
    "    \n",
    "    def tokenize(self, sequence):\n",
    "        # ...\n",
    "    \n",
    "    def detokenize(self, sequence):\n",
    "        # ..."
   ]
  },
  {
   "cell_type": "markdown",
   "metadata": {},
   "source": [
    "## Модель (1 балл)\n",
    "\n",
    "Примерно такое должно зайти:\n",
    "\n",
    "* Эмбеддинг\n",
    "* LSTM / GRU\n",
    "* Дропаут\n",
    "* Линейный слой\n",
    "* Softmax"
   ]
  },
  {
   "cell_type": "code",
   "execution_count": null,
   "metadata": {},
   "outputs": [],
   "source": [
    "# ..."
   ]
  },
  {
   "cell_type": "markdown",
   "metadata": {},
   "source": [
    "## Обучение (3 балла)\n",
    "\n",
    "* Делайте сэмплирование предложений фиксированной длины из вашего корпуса. Можете как нарезать их изначально, так и написать генератор.\n",
    "* Используйте teacher forcing.\n",
    "* Выход модели — это one-hot вход, смещенный на одну позиию.\n",
    "* Функция потерь: кроссэнтропия.\n",
    "* Не забудьте мониторить и валидацию, и train."
   ]
  },
  {
   "cell_type": "code",
   "execution_count": null,
   "metadata": {},
   "outputs": [],
   "source": [
    "batch_size = # ...\n",
    "sequence_len = # ...\n",
    "learning_rate = # ...\n",
    "\n",
    "# ..."
   ]
  },
  {
   "cell_type": "markdown",
   "metadata": {},
   "source": [
    "## Спеллчекер (1 балла)\n",
    "\n",
    "Из языковой модели можно сделать простенький спеллчекер: можно визуализировать лоссы на каждом символе.\n",
    "\n",
    "Бонус: можете усреднить перплексии по словам и выделять их, а не отдельные символы."
   ]
  },
  {
   "cell_type": "code",
   "execution_count": 55,
   "metadata": {},
   "outputs": [
    {
     "data": {
      "text/html": [
       "<span style=\"background: rgb(255, 255, 255)\">Налейте</span> <span style=\"background: rgb(255, 255, 255)\">мне</span> <span style=\"background: rgb(255, 155, 155)\">экспрессо</span>"
      ],
      "text/plain": [
       "<IPython.core.display.HTML object>"
      ]
     },
     "metadata": {},
     "output_type": "display_data"
    },
    {
     "data": {
      "text/html": [
       "<span style=\"background: rgb(255, 255, 255)\">Э</span><span style=\"background: rgb(255, 255, 255)\">т</span><span style=\"background: rgb(255, 255, 255)\">у</span><span style=\"background: rgb(255, 255, 255)\"> </span><span style=\"background: rgb(255, 255, 255)\">д</span><span style=\"background: rgb(255, 255, 255)\">о</span><span style=\"background: rgb(255, 255, 255)\">м</span><span style=\"background: rgb(255, 255, 255)\">а</span><span style=\"background: rgb(255, 255, 255)\">ш</span><span style=\"background: rgb(255, 255, 255)\">к</span><span style=\"background: rgb(255, 255, 255)\">у</span><span style=\"background: rgb(255, 255, 255)\"> </span><span style=\"background: rgb(255, 255, 255)\">н</span><span style=\"background: rgb(255, 255, 255)\">у</span><span style=\"background: rgb(255, 255, 255)\">ж</span><span style=\"background: rgb(255, 255, 255)\">н</span><span style=\"background: rgb(255, 255, 255)\">о</span><span style=\"background: rgb(255, 255, 255)\"> </span><span style=\"background: rgb(255, 255, 255)\">с</span><span style=\"background: rgb(255, 255, 255)\">д</span><span style=\"background: rgb(255, 255, 255)\">а</span><span style=\"background: rgb(255, 255, 255)\">т</span><span style=\"background: rgb(255, 255, 255)\">ь</span><span style=\"background: rgb(255, 255, 255)\"> </span><span style=\"background: rgb(255, 255, 255)\">в</span><span style=\"background: rgb(255, 205, 205)\">т</span><span style=\"background: rgb(255, 195, 195)\">е</span><span style=\"background: rgb(255, 185, 185)\">ч</span><span style=\"background: rgb(255, 255, 255)\">е</span><span style=\"background: rgb(255, 255, 255)\">н</span><span style=\"background: rgb(255, 255, 255)\">и</span><span style=\"background: rgb(255, 105, 105)\">и</span><span style=\"background: rgb(255, 255, 255)\"> </span><span style=\"background: rgb(255, 255, 255)\">д</span><span style=\"background: rgb(255, 255, 255)\">в</span><span style=\"background: rgb(255, 255, 255)\">у</span><span style=\"background: rgb(255, 255, 255)\">х</span><span style=\"background: rgb(255, 255, 255)\"> </span><span style=\"background: rgb(255, 255, 255)\">н</span><span style=\"background: rgb(255, 255, 255)\">е</span><span style=\"background: rgb(255, 255, 255)\">д</span><span style=\"background: rgb(255, 255, 255)\">е</span><span style=\"background: rgb(255, 255, 255)\">л</span><span style=\"background: rgb(255, 255, 255)\">ь</span>"
      ],
      "text/plain": [
       "<IPython.core.display.HTML object>"
      ]
     },
     "metadata": {},
     "output_type": "display_data"
    }
   ],
   "source": [
    "from IPython.core.display import display, HTML\n",
    "\n",
    "def print_colored(sequence, intensities, delimeter=''):\n",
    "    html = delimeter.join([\n",
    "        f'<span style=\"background: rgb({255}, {255-x}, {255-x})\">{c}</span>'\n",
    "        for c, x in zip(sequence, intensities) \n",
    "    ])\n",
    "    display(HTML(html))\n",
    "\n",
    "print_colored('Налейте мне экспрессо'.split(), [0, 0, 100], ' ')\n",
    "\n",
    "sequence = 'Эту домашку нужно сдать втечении двух недель'\n",
    "intensities = [0]*len(sequence)\n",
    "intensities[25] = 50\n",
    "intensities[26] = 60\n",
    "intensities[27] = 70\n",
    "intensities[31] = 150\n",
    "print_colored(sequence, intensities)"
   ]
  },
  {
   "cell_type": "code",
   "execution_count": null,
   "metadata": {},
   "outputs": [],
   "source": [
    "# ..."
   ]
  },
  {
   "cell_type": "markdown",
   "metadata": {},
   "source": [
    "## Генерация предложений (3 балла)\n",
    "\n",
    "* Поддерживайте hidden state при генерации. Не пересчитывайте ничего больше одного раза.\n",
    "* Прикрутите температуру: это когда при сэмплировании все логиты (то, что перед софтмаксом) делятся на какое-то число (по умолчанию 1, тогда ничего не меняется). Температура позволяет делать trade-off между разнообразием и правдоподобием (подробнее — см. блог Карпатого).\n",
    "* Ваша реализация должна уметь принимать строку seed — то, с чего должно начинаться сгенерированная строка.\n",
    "\n",
    "Если сделаете все вышеперечисленное, то получите 2 балла. Если сделаете хоть какую-то генерацию, то 1 балл."
   ]
  },
  {
   "cell_type": "code",
   "execution_count": null,
   "metadata": {},
   "outputs": [],
   "source": [
    "def sample(length, temperature=1, seed=''):\n",
    "    # ..."
   ]
  }
 ],
 "metadata": {
  "kernelspec": {
   "display_name": "Python 3",
   "language": "python",
   "name": "python3"
  },
  "language_info": {
   "codemirror_mode": {
    "name": "ipython",
    "version": 3
   },
   "file_extension": ".py",
   "mimetype": "text/x-python",
   "name": "python",
   "nbconvert_exporter": "python",
   "pygments_lexer": "ipython3",
   "version": "3.6.5"
  }
 },
 "nbformat": 4,
 "nbformat_minor": 2
}
